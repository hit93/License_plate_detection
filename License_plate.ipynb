{
  "cells": [
    {
      "cell_type": "code",
      "source": [
        "!pip install opendatasets"
      ],
      "metadata": {
        "colab": {
          "base_uri": "https://localhost:8080/"
        },
        "id": "KfofSGMMHxob",
        "outputId": "6ff21328-5d20-4fce-99c3-32c04217ab34"
      },
      "execution_count": null,
      "outputs": [
        {
          "output_type": "stream",
          "name": "stdout",
          "text": [
            "Collecting opendatasets\n",
            "  Downloading opendatasets-0.1.22-py3-none-any.whl.metadata (9.2 kB)\n",
            "Requirement already satisfied: tqdm in /usr/local/lib/python3.10/dist-packages (from opendatasets) (4.66.6)\n",
            "Requirement already satisfied: kaggle in /usr/local/lib/python3.10/dist-packages (from opendatasets) (1.6.17)\n",
            "Requirement already satisfied: click in /usr/local/lib/python3.10/dist-packages (from opendatasets) (8.1.7)\n",
            "Requirement already satisfied: six>=1.10 in /usr/local/lib/python3.10/dist-packages (from kaggle->opendatasets) (1.16.0)\n",
            "Requirement already satisfied: certifi>=2023.7.22 in /usr/local/lib/python3.10/dist-packages (from kaggle->opendatasets) (2024.8.30)\n",
            "Requirement already satisfied: python-dateutil in /usr/local/lib/python3.10/dist-packages (from kaggle->opendatasets) (2.8.2)\n",
            "Requirement already satisfied: requests in /usr/local/lib/python3.10/dist-packages (from kaggle->opendatasets) (2.32.3)\n",
            "Requirement already satisfied: python-slugify in /usr/local/lib/python3.10/dist-packages (from kaggle->opendatasets) (8.0.4)\n",
            "Requirement already satisfied: urllib3 in /usr/local/lib/python3.10/dist-packages (from kaggle->opendatasets) (2.2.3)\n",
            "Requirement already satisfied: bleach in /usr/local/lib/python3.10/dist-packages (from kaggle->opendatasets) (6.2.0)\n",
            "Requirement already satisfied: webencodings in /usr/local/lib/python3.10/dist-packages (from bleach->kaggle->opendatasets) (0.5.1)\n",
            "Requirement already satisfied: text-unidecode>=1.3 in /usr/local/lib/python3.10/dist-packages (from python-slugify->kaggle->opendatasets) (1.3)\n",
            "Requirement already satisfied: charset-normalizer<4,>=2 in /usr/local/lib/python3.10/dist-packages (from requests->kaggle->opendatasets) (3.4.0)\n",
            "Requirement already satisfied: idna<4,>=2.5 in /usr/local/lib/python3.10/dist-packages (from requests->kaggle->opendatasets) (3.10)\n",
            "Downloading opendatasets-0.1.22-py3-none-any.whl (15 kB)\n",
            "Installing collected packages: opendatasets\n",
            "Successfully installed opendatasets-0.1.22\n"
          ]
        }
      ]
    },
    {
      "cell_type": "code",
      "execution_count": null,
      "metadata": {
        "nbgrader": {
          "grade": false,
          "grade_id": "16dd0e54-1177-41f7-a262-2b4c8bf37c63",
          "locked": false,
          "points": 1,
          "schema_version": 3,
          "solution": false,
          "task": false
        },
        "id": "Dhe7VKzmjWzO",
        "colab": {
          "base_uri": "https://localhost:8080/"
        },
        "outputId": "0bdae569-3457-4c55-824b-c2578b20ca2e"
      },
      "outputs": [
        {
          "output_type": "stream",
          "name": "stdout",
          "text": [
            "Please provide your Kaggle credentials to download this dataset. Learn more: http://bit.ly/kaggle-creds\n",
            "Your Kaggle username: hitesh93\n",
            "Your Kaggle Key: ··········\n",
            "Dataset URL: https://www.kaggle.com/datasets/andrewmvd/car-plate-detection\n",
            "Downloading car-plate-detection.zip to ./car-plate-detection\n"
          ]
        },
        {
          "output_type": "stream",
          "name": "stderr",
          "text": [
            "100%|██████████| 203M/203M [00:10<00:00, 20.7MB/s]\n"
          ]
        },
        {
          "output_type": "stream",
          "name": "stdout",
          "text": [
            "\n"
          ]
        }
      ],
      "source": [
        "import opendatasets as od\n",
        "import pandas\n",
        "\n",
        "od.download(\n",
        "\t\"https://www.kaggle.com/datasets/andrewmvd/car-plate-detection?resource=download\")\n"
      ]
    },
    {
      "cell_type": "code",
      "source": [
        "!pip install ultralytics torch"
      ],
      "metadata": {
        "colab": {
          "base_uri": "https://localhost:8080/"
        },
        "id": "yUZo15bkIae1",
        "outputId": "7fb27579-d821-41cc-e716-128cbb8b0398"
      },
      "execution_count": null,
      "outputs": [
        {
          "output_type": "stream",
          "name": "stdout",
          "text": [
            "Requirement already satisfied: ultralytics in /usr/local/lib/python3.10/dist-packages (8.3.48)\n",
            "Requirement already satisfied: torch in /usr/local/lib/python3.10/dist-packages (2.5.1+cu121)\n",
            "Requirement already satisfied: numpy>=1.23.0 in /usr/local/lib/python3.10/dist-packages (from ultralytics) (1.26.4)\n",
            "Requirement already satisfied: matplotlib>=3.3.0 in /usr/local/lib/python3.10/dist-packages (from ultralytics) (3.8.0)\n",
            "Requirement already satisfied: opencv-python>=4.6.0 in /usr/local/lib/python3.10/dist-packages (from ultralytics) (4.10.0.84)\n",
            "Requirement already satisfied: pillow>=7.1.2 in /usr/local/lib/python3.10/dist-packages (from ultralytics) (11.0.0)\n",
            "Requirement already satisfied: pyyaml>=5.3.1 in /usr/local/lib/python3.10/dist-packages (from ultralytics) (6.0.2)\n",
            "Requirement already satisfied: requests>=2.23.0 in /usr/local/lib/python3.10/dist-packages (from ultralytics) (2.32.3)\n",
            "Requirement already satisfied: scipy>=1.4.1 in /usr/local/lib/python3.10/dist-packages (from ultralytics) (1.13.1)\n",
            "Requirement already satisfied: torchvision>=0.9.0 in /usr/local/lib/python3.10/dist-packages (from ultralytics) (0.20.1+cu121)\n",
            "Requirement already satisfied: tqdm>=4.64.0 in /usr/local/lib/python3.10/dist-packages (from ultralytics) (4.66.6)\n",
            "Requirement already satisfied: psutil in /usr/local/lib/python3.10/dist-packages (from ultralytics) (5.9.5)\n",
            "Requirement already satisfied: py-cpuinfo in /usr/local/lib/python3.10/dist-packages (from ultralytics) (9.0.0)\n",
            "Requirement already satisfied: pandas>=1.1.4 in /usr/local/lib/python3.10/dist-packages (from ultralytics) (2.2.2)\n",
            "Requirement already satisfied: seaborn>=0.11.0 in /usr/local/lib/python3.10/dist-packages (from ultralytics) (0.13.2)\n",
            "Requirement already satisfied: ultralytics-thop>=2.0.0 in /usr/local/lib/python3.10/dist-packages (from ultralytics) (2.0.13)\n",
            "Requirement already satisfied: filelock in /usr/local/lib/python3.10/dist-packages (from torch) (3.16.1)\n",
            "Requirement already satisfied: typing-extensions>=4.8.0 in /usr/local/lib/python3.10/dist-packages (from torch) (4.12.2)\n",
            "Requirement already satisfied: networkx in /usr/local/lib/python3.10/dist-packages (from torch) (3.4.2)\n",
            "Requirement already satisfied: jinja2 in /usr/local/lib/python3.10/dist-packages (from torch) (3.1.4)\n",
            "Requirement already satisfied: fsspec in /usr/local/lib/python3.10/dist-packages (from torch) (2024.10.0)\n",
            "Requirement already satisfied: sympy==1.13.1 in /usr/local/lib/python3.10/dist-packages (from torch) (1.13.1)\n",
            "Requirement already satisfied: mpmath<1.4,>=1.1.0 in /usr/local/lib/python3.10/dist-packages (from sympy==1.13.1->torch) (1.3.0)\n",
            "Requirement already satisfied: contourpy>=1.0.1 in /usr/local/lib/python3.10/dist-packages (from matplotlib>=3.3.0->ultralytics) (1.3.1)\n",
            "Requirement already satisfied: cycler>=0.10 in /usr/local/lib/python3.10/dist-packages (from matplotlib>=3.3.0->ultralytics) (0.12.1)\n",
            "Requirement already satisfied: fonttools>=4.22.0 in /usr/local/lib/python3.10/dist-packages (from matplotlib>=3.3.0->ultralytics) (4.55.1)\n",
            "Requirement already satisfied: kiwisolver>=1.0.1 in /usr/local/lib/python3.10/dist-packages (from matplotlib>=3.3.0->ultralytics) (1.4.7)\n",
            "Requirement already satisfied: packaging>=20.0 in /usr/local/lib/python3.10/dist-packages (from matplotlib>=3.3.0->ultralytics) (24.2)\n",
            "Requirement already satisfied: pyparsing>=2.3.1 in /usr/local/lib/python3.10/dist-packages (from matplotlib>=3.3.0->ultralytics) (3.2.0)\n",
            "Requirement already satisfied: python-dateutil>=2.7 in /usr/local/lib/python3.10/dist-packages (from matplotlib>=3.3.0->ultralytics) (2.8.2)\n",
            "Requirement already satisfied: pytz>=2020.1 in /usr/local/lib/python3.10/dist-packages (from pandas>=1.1.4->ultralytics) (2024.2)\n",
            "Requirement already satisfied: tzdata>=2022.7 in /usr/local/lib/python3.10/dist-packages (from pandas>=1.1.4->ultralytics) (2024.2)\n",
            "Requirement already satisfied: charset-normalizer<4,>=2 in /usr/local/lib/python3.10/dist-packages (from requests>=2.23.0->ultralytics) (3.4.0)\n",
            "Requirement already satisfied: idna<4,>=2.5 in /usr/local/lib/python3.10/dist-packages (from requests>=2.23.0->ultralytics) (3.10)\n",
            "Requirement already satisfied: urllib3<3,>=1.21.1 in /usr/local/lib/python3.10/dist-packages (from requests>=2.23.0->ultralytics) (2.2.3)\n",
            "Requirement already satisfied: certifi>=2017.4.17 in /usr/local/lib/python3.10/dist-packages (from requests>=2.23.0->ultralytics) (2024.8.30)\n",
            "Requirement already satisfied: MarkupSafe>=2.0 in /usr/local/lib/python3.10/dist-packages (from jinja2->torch) (3.0.2)\n",
            "Requirement already satisfied: six>=1.5 in /usr/local/lib/python3.10/dist-packages (from python-dateutil>=2.7->matplotlib>=3.3.0->ultralytics) (1.16.0)\n"
          ]
        }
      ]
    },
    {
      "cell_type": "code",
      "source": [
        "# Import necessary libraries\n",
        "import os\n",
        "import cv2\n",
        "import shutil\n",
        "import numpy as np\n",
        "import pandas as pd\n",
        "import re\n",
        "import matplotlib.pyplot as plt\n",
        "import xml.etree.ElementTree as xet\n",
        "from glob import glob\n",
        "from sklearn.model_selection import train_test_split\n",
        "from ultralytics import YOLO\n",
        "import torch\n",
        "\n",
        "# Check CUDA availability\n",
        "print(f'{torch.cuda.is_available() = }')\n",
        "print(f'{torch.cuda.device_count() = }')\n"
      ],
      "metadata": {
        "colab": {
          "base_uri": "https://localhost:8080/"
        },
        "id": "0bXuOdvdH53p",
        "outputId": "6ebda504-eb33-4ae4-f99b-bfb8517decb6"
      },
      "execution_count": null,
      "outputs": [
        {
          "output_type": "stream",
          "name": "stdout",
          "text": [
            "torch.cuda.is_available() = True\n",
            "torch.cuda.device_count() = 1\n"
          ]
        }
      ]
    },
    {
      "cell_type": "code",
      "source": [
        "# Define Constants and Utility Functions\n",
        "\n",
        "# Constants\n",
        "dataset_path = '/content/car-plate-detection'\n",
        "\n",
        "# Function to extract numbers from filename\n",
        "def the_number_in_the_string(filename):\n",
        "    \"\"\"Extracts the first number from a string.\"\"\"\n",
        "    match = re.search(r'(\\d+)', filename)\n",
        "    return int(match.group(0)) if match else 0\n",
        "\n",
        "# Parse XML files and extract labels\n",
        "def parse_annotations(dataset_path):\n",
        "    labels_dict = {'img_path': [], 'xmin': [], 'xmax': [], 'ymin': [], 'ymax': [], 'img_w': [], 'img_h': []}\n",
        "    xml_files = glob(f'{dataset_path}/annotations/*.xml')\n",
        "\n",
        "    for filename in sorted(xml_files, key=the_number_in_the_string):\n",
        "        info = xet.parse(filename)\n",
        "        root = info.getroot()\n",
        "        member_object = root.find('object')\n",
        "        labels_info = member_object.find('bndbox')\n",
        "\n",
        "        img_name = root.find('filename').text\n",
        "        img_path = os.path.join(dataset_path, 'images', img_name)\n",
        "\n",
        "        # Append extracted information\n",
        "        labels_dict['img_path'].append(img_path)\n",
        "        labels_dict['xmin'].append(int(labels_info.find('xmin').text))\n",
        "        labels_dict['xmax'].append(int(labels_info.find('xmax').text))\n",
        "        labels_dict['ymin'].append(int(labels_info.find('ymin').text))\n",
        "        labels_dict['ymax'].append(int(labels_info.find('ymax').text))\n",
        "\n",
        "        height, width, _ = cv2.imread(img_path).shape\n",
        "        labels_dict['img_w'].append(width)\n",
        "        labels_dict['img_h'].append(height)\n",
        "\n",
        "    return pd.DataFrame(labels_dict)\n"
      ],
      "metadata": {
        "id": "gaNnelstIYEu"
      },
      "execution_count": null,
      "outputs": []
    },
    {
      "cell_type": "code",
      "source": [
        "data = parse_annotations(dataset_path)\n",
        "data.head()"
      ],
      "metadata": {
        "colab": {
          "base_uri": "https://localhost:8080/",
          "height": 206
        },
        "id": "aUIWJaEXK-Ih",
        "outputId": "e5b6756a-f992-4ef5-d2b9-e477637afed4"
      },
      "execution_count": null,
      "outputs": [
        {
          "output_type": "execute_result",
          "data": {
            "text/plain": [
              "                                        img_path  xmin  xmax  ymin  ymax  \\\n",
              "0  /content/car-plate-detection/images/Cars0.png   226   419   125   173   \n",
              "1  /content/car-plate-detection/images/Cars1.png   134   262   128   160   \n",
              "2  /content/car-plate-detection/images/Cars2.png   229   270   176   193   \n",
              "3  /content/car-plate-detection/images/Cars3.png   142   261   128   157   \n",
              "4  /content/car-plate-detection/images/Cars4.png   156   503    82   253   \n",
              "\n",
              "   img_w  img_h  \n",
              "0    500    268  \n",
              "1    400    248  \n",
              "2    400    400  \n",
              "3    400    225  \n",
              "4    590    350  "
            ],
            "text/html": [
              "\n",
              "  <div id=\"df-889588a0-cebc-4740-8907-7db17180273d\" class=\"colab-df-container\">\n",
              "    <div>\n",
              "<style scoped>\n",
              "    .dataframe tbody tr th:only-of-type {\n",
              "        vertical-align: middle;\n",
              "    }\n",
              "\n",
              "    .dataframe tbody tr th {\n",
              "        vertical-align: top;\n",
              "    }\n",
              "\n",
              "    .dataframe thead th {\n",
              "        text-align: right;\n",
              "    }\n",
              "</style>\n",
              "<table border=\"1\" class=\"dataframe\">\n",
              "  <thead>\n",
              "    <tr style=\"text-align: right;\">\n",
              "      <th></th>\n",
              "      <th>img_path</th>\n",
              "      <th>xmin</th>\n",
              "      <th>xmax</th>\n",
              "      <th>ymin</th>\n",
              "      <th>ymax</th>\n",
              "      <th>img_w</th>\n",
              "      <th>img_h</th>\n",
              "    </tr>\n",
              "  </thead>\n",
              "  <tbody>\n",
              "    <tr>\n",
              "      <th>0</th>\n",
              "      <td>/content/car-plate-detection/images/Cars0.png</td>\n",
              "      <td>226</td>\n",
              "      <td>419</td>\n",
              "      <td>125</td>\n",
              "      <td>173</td>\n",
              "      <td>500</td>\n",
              "      <td>268</td>\n",
              "    </tr>\n",
              "    <tr>\n",
              "      <th>1</th>\n",
              "      <td>/content/car-plate-detection/images/Cars1.png</td>\n",
              "      <td>134</td>\n",
              "      <td>262</td>\n",
              "      <td>128</td>\n",
              "      <td>160</td>\n",
              "      <td>400</td>\n",
              "      <td>248</td>\n",
              "    </tr>\n",
              "    <tr>\n",
              "      <th>2</th>\n",
              "      <td>/content/car-plate-detection/images/Cars2.png</td>\n",
              "      <td>229</td>\n",
              "      <td>270</td>\n",
              "      <td>176</td>\n",
              "      <td>193</td>\n",
              "      <td>400</td>\n",
              "      <td>400</td>\n",
              "    </tr>\n",
              "    <tr>\n",
              "      <th>3</th>\n",
              "      <td>/content/car-plate-detection/images/Cars3.png</td>\n",
              "      <td>142</td>\n",
              "      <td>261</td>\n",
              "      <td>128</td>\n",
              "      <td>157</td>\n",
              "      <td>400</td>\n",
              "      <td>225</td>\n",
              "    </tr>\n",
              "    <tr>\n",
              "      <th>4</th>\n",
              "      <td>/content/car-plate-detection/images/Cars4.png</td>\n",
              "      <td>156</td>\n",
              "      <td>503</td>\n",
              "      <td>82</td>\n",
              "      <td>253</td>\n",
              "      <td>590</td>\n",
              "      <td>350</td>\n",
              "    </tr>\n",
              "  </tbody>\n",
              "</table>\n",
              "</div>\n",
              "    <div class=\"colab-df-buttons\">\n",
              "\n",
              "  <div class=\"colab-df-container\">\n",
              "    <button class=\"colab-df-convert\" onclick=\"convertToInteractive('df-889588a0-cebc-4740-8907-7db17180273d')\"\n",
              "            title=\"Convert this dataframe to an interactive table.\"\n",
              "            style=\"display:none;\">\n",
              "\n",
              "  <svg xmlns=\"http://www.w3.org/2000/svg\" height=\"24px\" viewBox=\"0 -960 960 960\">\n",
              "    <path d=\"M120-120v-720h720v720H120Zm60-500h600v-160H180v160Zm220 220h160v-160H400v160Zm0 220h160v-160H400v160ZM180-400h160v-160H180v160Zm440 0h160v-160H620v160ZM180-180h160v-160H180v160Zm440 0h160v-160H620v160Z\"/>\n",
              "  </svg>\n",
              "    </button>\n",
              "\n",
              "  <style>\n",
              "    .colab-df-container {\n",
              "      display:flex;\n",
              "      gap: 12px;\n",
              "    }\n",
              "\n",
              "    .colab-df-convert {\n",
              "      background-color: #E8F0FE;\n",
              "      border: none;\n",
              "      border-radius: 50%;\n",
              "      cursor: pointer;\n",
              "      display: none;\n",
              "      fill: #1967D2;\n",
              "      height: 32px;\n",
              "      padding: 0 0 0 0;\n",
              "      width: 32px;\n",
              "    }\n",
              "\n",
              "    .colab-df-convert:hover {\n",
              "      background-color: #E2EBFA;\n",
              "      box-shadow: 0px 1px 2px rgba(60, 64, 67, 0.3), 0px 1px 3px 1px rgba(60, 64, 67, 0.15);\n",
              "      fill: #174EA6;\n",
              "    }\n",
              "\n",
              "    .colab-df-buttons div {\n",
              "      margin-bottom: 4px;\n",
              "    }\n",
              "\n",
              "    [theme=dark] .colab-df-convert {\n",
              "      background-color: #3B4455;\n",
              "      fill: #D2E3FC;\n",
              "    }\n",
              "\n",
              "    [theme=dark] .colab-df-convert:hover {\n",
              "      background-color: #434B5C;\n",
              "      box-shadow: 0px 1px 3px 1px rgba(0, 0, 0, 0.15);\n",
              "      filter: drop-shadow(0px 1px 2px rgba(0, 0, 0, 0.3));\n",
              "      fill: #FFFFFF;\n",
              "    }\n",
              "  </style>\n",
              "\n",
              "    <script>\n",
              "      const buttonEl =\n",
              "        document.querySelector('#df-889588a0-cebc-4740-8907-7db17180273d button.colab-df-convert');\n",
              "      buttonEl.style.display =\n",
              "        google.colab.kernel.accessAllowed ? 'block' : 'none';\n",
              "\n",
              "      async function convertToInteractive(key) {\n",
              "        const element = document.querySelector('#df-889588a0-cebc-4740-8907-7db17180273d');\n",
              "        const dataTable =\n",
              "          await google.colab.kernel.invokeFunction('convertToInteractive',\n",
              "                                                    [key], {});\n",
              "        if (!dataTable) return;\n",
              "\n",
              "        const docLinkHtml = 'Like what you see? Visit the ' +\n",
              "          '<a target=\"_blank\" href=https://colab.research.google.com/notebooks/data_table.ipynb>data table notebook</a>'\n",
              "          + ' to learn more about interactive tables.';\n",
              "        element.innerHTML = '';\n",
              "        dataTable['output_type'] = 'display_data';\n",
              "        await google.colab.output.renderOutput(dataTable, element);\n",
              "        const docLink = document.createElement('div');\n",
              "        docLink.innerHTML = docLinkHtml;\n",
              "        element.appendChild(docLink);\n",
              "      }\n",
              "    </script>\n",
              "  </div>\n",
              "\n",
              "\n",
              "<div id=\"df-8b5a7f70-2f49-4fe2-8773-fc99bc935734\">\n",
              "  <button class=\"colab-df-quickchart\" onclick=\"quickchart('df-8b5a7f70-2f49-4fe2-8773-fc99bc935734')\"\n",
              "            title=\"Suggest charts\"\n",
              "            style=\"display:none;\">\n",
              "\n",
              "<svg xmlns=\"http://www.w3.org/2000/svg\" height=\"24px\"viewBox=\"0 0 24 24\"\n",
              "     width=\"24px\">\n",
              "    <g>\n",
              "        <path d=\"M19 3H5c-1.1 0-2 .9-2 2v14c0 1.1.9 2 2 2h14c1.1 0 2-.9 2-2V5c0-1.1-.9-2-2-2zM9 17H7v-7h2v7zm4 0h-2V7h2v10zm4 0h-2v-4h2v4z\"/>\n",
              "    </g>\n",
              "</svg>\n",
              "  </button>\n",
              "\n",
              "<style>\n",
              "  .colab-df-quickchart {\n",
              "      --bg-color: #E8F0FE;\n",
              "      --fill-color: #1967D2;\n",
              "      --hover-bg-color: #E2EBFA;\n",
              "      --hover-fill-color: #174EA6;\n",
              "      --disabled-fill-color: #AAA;\n",
              "      --disabled-bg-color: #DDD;\n",
              "  }\n",
              "\n",
              "  [theme=dark] .colab-df-quickchart {\n",
              "      --bg-color: #3B4455;\n",
              "      --fill-color: #D2E3FC;\n",
              "      --hover-bg-color: #434B5C;\n",
              "      --hover-fill-color: #FFFFFF;\n",
              "      --disabled-bg-color: #3B4455;\n",
              "      --disabled-fill-color: #666;\n",
              "  }\n",
              "\n",
              "  .colab-df-quickchart {\n",
              "    background-color: var(--bg-color);\n",
              "    border: none;\n",
              "    border-radius: 50%;\n",
              "    cursor: pointer;\n",
              "    display: none;\n",
              "    fill: var(--fill-color);\n",
              "    height: 32px;\n",
              "    padding: 0;\n",
              "    width: 32px;\n",
              "  }\n",
              "\n",
              "  .colab-df-quickchart:hover {\n",
              "    background-color: var(--hover-bg-color);\n",
              "    box-shadow: 0 1px 2px rgba(60, 64, 67, 0.3), 0 1px 3px 1px rgba(60, 64, 67, 0.15);\n",
              "    fill: var(--button-hover-fill-color);\n",
              "  }\n",
              "\n",
              "  .colab-df-quickchart-complete:disabled,\n",
              "  .colab-df-quickchart-complete:disabled:hover {\n",
              "    background-color: var(--disabled-bg-color);\n",
              "    fill: var(--disabled-fill-color);\n",
              "    box-shadow: none;\n",
              "  }\n",
              "\n",
              "  .colab-df-spinner {\n",
              "    border: 2px solid var(--fill-color);\n",
              "    border-color: transparent;\n",
              "    border-bottom-color: var(--fill-color);\n",
              "    animation:\n",
              "      spin 1s steps(1) infinite;\n",
              "  }\n",
              "\n",
              "  @keyframes spin {\n",
              "    0% {\n",
              "      border-color: transparent;\n",
              "      border-bottom-color: var(--fill-color);\n",
              "      border-left-color: var(--fill-color);\n",
              "    }\n",
              "    20% {\n",
              "      border-color: transparent;\n",
              "      border-left-color: var(--fill-color);\n",
              "      border-top-color: var(--fill-color);\n",
              "    }\n",
              "    30% {\n",
              "      border-color: transparent;\n",
              "      border-left-color: var(--fill-color);\n",
              "      border-top-color: var(--fill-color);\n",
              "      border-right-color: var(--fill-color);\n",
              "    }\n",
              "    40% {\n",
              "      border-color: transparent;\n",
              "      border-right-color: var(--fill-color);\n",
              "      border-top-color: var(--fill-color);\n",
              "    }\n",
              "    60% {\n",
              "      border-color: transparent;\n",
              "      border-right-color: var(--fill-color);\n",
              "    }\n",
              "    80% {\n",
              "      border-color: transparent;\n",
              "      border-right-color: var(--fill-color);\n",
              "      border-bottom-color: var(--fill-color);\n",
              "    }\n",
              "    90% {\n",
              "      border-color: transparent;\n",
              "      border-bottom-color: var(--fill-color);\n",
              "    }\n",
              "  }\n",
              "</style>\n",
              "\n",
              "  <script>\n",
              "    async function quickchart(key) {\n",
              "      const quickchartButtonEl =\n",
              "        document.querySelector('#' + key + ' button');\n",
              "      quickchartButtonEl.disabled = true;  // To prevent multiple clicks.\n",
              "      quickchartButtonEl.classList.add('colab-df-spinner');\n",
              "      try {\n",
              "        const charts = await google.colab.kernel.invokeFunction(\n",
              "            'suggestCharts', [key], {});\n",
              "      } catch (error) {\n",
              "        console.error('Error during call to suggestCharts:', error);\n",
              "      }\n",
              "      quickchartButtonEl.classList.remove('colab-df-spinner');\n",
              "      quickchartButtonEl.classList.add('colab-df-quickchart-complete');\n",
              "    }\n",
              "    (() => {\n",
              "      let quickchartButtonEl =\n",
              "        document.querySelector('#df-8b5a7f70-2f49-4fe2-8773-fc99bc935734 button');\n",
              "      quickchartButtonEl.style.display =\n",
              "        google.colab.kernel.accessAllowed ? 'block' : 'none';\n",
              "    })();\n",
              "  </script>\n",
              "</div>\n",
              "\n",
              "    </div>\n",
              "  </div>\n"
            ],
            "application/vnd.google.colaboratory.intrinsic+json": {
              "type": "dataframe",
              "variable_name": "data",
              "summary": "{\n  \"name\": \"data\",\n  \"rows\": 433,\n  \"fields\": [\n    {\n      \"column\": \"img_path\",\n      \"properties\": {\n        \"dtype\": \"string\",\n        \"num_unique_values\": 433,\n        \"samples\": [\n          \"/content/car-plate-detection/images/Cars425.png\",\n          \"/content/car-plate-detection/images/Cars75.png\",\n          \"/content/car-plate-detection/images/Cars181.png\"\n        ],\n        \"semantic_type\": \"\",\n        \"description\": \"\"\n      }\n    },\n    {\n      \"column\": \"xmin\",\n      \"properties\": {\n        \"dtype\": \"number\",\n        \"std\": 82,\n        \"min\": 0,\n        \"max\": 541,\n        \"num_unique_values\": 218,\n        \"samples\": [\n          247,\n          211,\n          59\n        ],\n        \"semantic_type\": \"\",\n        \"description\": \"\"\n      }\n    },\n    {\n      \"column\": \"xmax\",\n      \"properties\": {\n        \"dtype\": \"number\",\n        \"std\": 92,\n        \"min\": 27,\n        \"max\": 598,\n        \"num_unique_values\": 235,\n        \"samples\": [\n          326,\n          107,\n          253\n        ],\n        \"semantic_type\": \"\",\n        \"description\": \"\"\n      }\n    },\n    {\n      \"column\": \"ymin\",\n      \"properties\": {\n        \"dtype\": \"number\",\n        \"std\": 54,\n        \"min\": 5,\n        \"max\": 405,\n        \"num_unique_values\": 180,\n        \"samples\": [\n          165,\n          117,\n          282\n        ],\n        \"semantic_type\": \"\",\n        \"description\": \"\"\n      }\n    },\n    {\n      \"column\": \"ymax\",\n      \"properties\": {\n        \"dtype\": \"number\",\n        \"std\": 51,\n        \"min\": 65,\n        \"max\": 439,\n        \"num_unique_values\": 169,\n        \"samples\": [\n          76,\n          167,\n          123\n        ],\n        \"semantic_type\": \"\",\n        \"description\": \"\"\n      }\n    },\n    {\n      \"column\": \"img_w\",\n      \"properties\": {\n        \"dtype\": \"number\",\n        \"std\": 68,\n        \"min\": 225,\n        \"max\": 600,\n        \"num_unique_values\": 40,\n        \"samples\": [\n          530,\n          375,\n          370\n        ],\n        \"semantic_type\": \"\",\n        \"description\": \"\"\n      }\n    },\n    {\n      \"column\": \"img_h\",\n      \"properties\": {\n        \"dtype\": \"number\",\n        \"std\": 66,\n        \"min\": 141,\n        \"max\": 531,\n        \"num_unique_values\": 103,\n        \"samples\": [\n          242,\n          478,\n          223\n        ],\n        \"semantic_type\": \"\",\n        \"description\": \"\"\n      }\n    }\n  ]\n}"
            }
          },
          "metadata": {},
          "execution_count": 18
        }
      ]
    },
    {
      "cell_type": "code",
      "source": [
        "# Split dataset into train, validation, and test sets\n",
        "def split_dataset(data):\n",
        "    train, test = train_test_split(data, test_size=0.1, random_state=42)\n",
        "    train, val = train_test_split(train, train_size=8/9, random_state=42)\n",
        "    return train, val, test\n"
      ],
      "metadata": {
        "id": "GrXvbGFOIwfi"
      },
      "execution_count": null,
      "outputs": []
    },
    {
      "cell_type": "code",
      "source": [
        "train, val, test = split_dataset(data)\n",
        "print(f'len(train) = {len(train)}, len(val) = {len(val)}, len(test) = {len(test)}')"
      ],
      "metadata": {
        "colab": {
          "base_uri": "https://localhost:8080/"
        },
        "id": "tXrs7KSQLP0Z",
        "outputId": "81715693-50c5-43a5-a5bf-0add3d3460a3"
      },
      "execution_count": null,
      "outputs": [
        {
          "output_type": "stream",
          "name": "stdout",
          "text": [
            "len(train) = 345, len(val) = 44, len(test) = 44\n"
          ]
        }
      ]
    },
    {
      "cell_type": "code",
      "source": [
        "# Create YOLO Format Dataset Structure\n",
        "\n",
        "# Function to create YOLO dataset format\n",
        "def make_split_folder_in_yolo_format(split_name, split_df):\n",
        "    base_path = os.path.join('datasets', 'cars_license_plate', split_name)\n",
        "    labels_path = os.path.join(base_path, 'labels')\n",
        "    images_path = os.path.join(base_path, 'images')\n",
        "\n",
        "    os.makedirs(labels_path, exist_ok=True)\n",
        "    os.makedirs(images_path, exist_ok=True)\n",
        "\n",
        "    for _, row in split_df.iterrows():\n",
        "        img_name, _ = os.path.splitext(os.path.basename(row['img_path']))\n",
        "        x_center = (row['xmin'] + row['xmax']) / 2 / row['img_w']\n",
        "        y_center = (row['ymin'] + row['ymax']) / 2 / row['img_h']\n",
        "        width = (row['xmax'] - row['xmin']) / row['img_w']\n",
        "        height = (row['ymax'] - row['ymin']) / row['img_h']\n",
        "\n",
        "        label_path = os.path.join(labels_path, f'{img_name}.txt')\n",
        "        with open(label_path, 'w') as file:\n",
        "            file.write(f\"0 {x_center:.4f} {y_center:.4f} {width:.4f} {height:.4f}\\n\")\n",
        "\n",
        "        shutil.copy(row['img_path'], os.path.join(images_path, img_name + os.path.splitext(row['img_path'])[1]))\n"
      ],
      "metadata": {
        "id": "SvjIZXusI3N-"
      },
      "execution_count": null,
      "outputs": []
    },
    {
      "cell_type": "code",
      "source": [
        "# Remove existing datasets directory and create new one\n",
        "if os.path.exists('datasets'):\n",
        "  shutil.rmtree('datasets')\n",
        "\n",
        "# Create YOLO format folders for train, validation, and test\n",
        "make_split_folder_in_yolo_format(\"train\", train)\n",
        "make_split_folder_in_yolo_format(\"val\", val)\n",
        "make_split_folder_in_yolo_format(\"test\", test)"
      ],
      "metadata": {
        "id": "hX9wHFzlLkgT"
      },
      "execution_count": null,
      "outputs": []
    },
    {
      "cell_type": "code",
      "source": [
        "import os\n",
        "import cv2\n",
        "import matplotlib.pyplot as plt\n",
        "\n",
        "# Directory paths\n",
        "image_dir = '/content/datasets/cars_license_plate/train/images'\n",
        "label_dir = '/content/datasets/cars_license_plate/train/labels'\n",
        "\n",
        "# Get the first image file\n",
        "image_files = sorted(os.listdir(image_dir))\n",
        "first_image_file = image_files[0]\n",
        "\n",
        "# Construct paths for the image and its corresponding label\n",
        "image_path = os.path.join(image_dir, first_image_file)\n",
        "label_path = os.path.join(label_dir, os.path.splitext(first_image_file)[0] + '.txt')\n",
        "\n",
        "# Load the image using OpenCV\n",
        "image = cv2.imread(image_path)\n",
        "# Convert the image from BGR (OpenCV default) to RGB (matplotlib default)\n",
        "image = cv2.cvtColor(image, cv2.COLOR_BGR2RGB)\n",
        "\n",
        "# Read the label file to get bounding box information\n",
        "with open(label_path, 'r') as f:\n",
        "    lines = f.readlines()\n",
        "\n",
        "# Plot the bounding box on the image\n",
        "for line in lines:\n",
        "    # Parse the label file line to extract bounding box information\n",
        "    class_id, x_center, y_center, width, height = map(float, line.strip().split())\n",
        "    img_height, img_width, _ = image.shape\n",
        "\n",
        "    # Convert YOLO format to bounding box format\n",
        "    x_center *= img_width\n",
        "    y_center *= img_height\n",
        "    width *= img_width\n",
        "    height *= img_height\n",
        "\n",
        "    # Calculate the top-left and bottom-right coordinates of the bounding box\n",
        "    x1 = int(x_center - width / 2)\n",
        "    y1 = int(y_center - height / 2)\n",
        "    x2 = int(x_center + width / 2)\n",
        "    y2 = int(y_center + height / 2)\n",
        "\n",
        "    # Draw the bounding box on the image using a green rectangle\n",
        "    cv2.rectangle(image, (x1, y1), (x2, y2), (0, 255, 0), 2)\n",
        "\n",
        "# Display the image with bounding box using matplotlib\n",
        "plt.imshow(image)\n",
        "plt.axis('off')  # Hide the axis\n",
        "plt.show()  # Display the image"
      ],
      "metadata": {
        "colab": {
          "base_uri": "https://localhost:8080/",
          "height": 344
        },
        "id": "nbwTu8DiI6OG",
        "outputId": "466d5306-afd3-4b88-c8f9-69fc93053fae"
      },
      "execution_count": null,
      "outputs": [
        {
          "output_type": "display_data",
          "data": {
            "text/plain": [
              "<Figure size 640x480 with 1 Axes>"
            ],
            "image/png": "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\n"
          },
          "metadata": {}
        }
      ]
    },
    {
      "cell_type": "code",
      "source": [
        "# Define the content of the datasets.yaml file\n",
        "datasets_yaml = '''\n",
        "path: cars_license_plate\n",
        "\n",
        "train: train/images\n",
        "val: val/images\n",
        "test: test/images\n",
        "\n",
        "nc: 1  # Number of classes\n",
        "names: ['license_plate']\n",
        "'''\n",
        "\n",
        "with open('datasets.yaml', 'w') as file:\n",
        "    file.write(datasets_yaml)"
      ],
      "metadata": {
        "id": "LGhbkJIpOY0K"
      },
      "execution_count": null,
      "outputs": []
    },
    {
      "cell_type": "code",
      "source": [
        "# Initialize YOLO model and train it\n",
        "model = YOLO('yolov8n.pt')\n",
        "model.train(\n",
        "    data='datasets.yaml', epochs=100, batch=16, device='cpu', imgsz=320, cache=True\n",
        ")\n",
        "\n",
      ],
      "metadata": {
        "colab": {
          "base_uri": "https://localhost:8080/"
        },
        "id": "vJZyrlrCOkuT",
        "outputId": "0215cb3f-de9d-4124-b2ec-3b3a85396a80"
      },
      "execution_count": null,
      "outputs": [
        {
          "metadata": {
            "tags": null
          },
          "name": "stdout",
          "output_type": "stream",
          "text": [
            "Ultralytics 8.3.48 🚀 Python-3.10.12 torch-2.5.1+cu121 CPU (Intel Xeon 2.00GHz)\n",
            "\u001b[34m\u001b[1mengine/trainer: \u001b[0mtask=detect, mode=train, model=yolov8n.pt, data=datasets.yaml, epochs=100, time=None, patience=100, batch=16, imgsz=320, save=True, save_period=-1, cache=True, workers=8, project=None, name=train3, exist_ok=False, pretrained=True, optimizer=auto, verbose=True, seed=0, deterministic=True, single_cls=False, rect=False, cos_lr=False, close_mosaic=10, resume=False, amp=True, fraction=1.0, profile=False, freeze=None, multi_scale=False, overlap_mask=True, mask_ratio=4, dropout=0.0, val=True, split=val, save_json=False, save_hybrid=False, conf=None, iou=0.7, max_det=300, half=False, dnn=False, plots=True, source=None, vid_stride=1, stream_buffer=False, visualize=False, augment=False, agnostic_nms=False, classes=None, retina_masks=False, embed=None, show=False, save_frames=False, save_txt=False, save_conf=False, save_crop=False, show_labels=True, show_conf=True, show_boxes=True, line_width=None, format=torchscript, keras=False, optimize=False, int8=False, dynamic=False, simplify=True, opset=None, workspace=None, nms=False, lr0=0.01, lrf=0.01, momentum=0.937, weight_decay=0.0005, warmup_epochs=3.0, warmup_momentum=0.8, warmup_bias_lr=0.1, box=7.5, cls=0.5, dfl=1.5, pose=12.0, kobj=1.0, nbs=64, hsv_h=0.015, hsv_s=0.7, hsv_v=0.4, degrees=0.0, translate=0.1, scale=0.5, shear=0.0, perspective=0.0, flipud=0.0, fliplr=0.5, bgr=0.0, mosaic=1.0, mixup=0.0, copy_paste=0.0, copy_paste_mode=flip, auto_augment=randaugment, erasing=0.4, crop_fraction=1.0, cfg=None, tracker=botsort.yaml, save_dir=runs/detect/train3\n",
            "Overriding model.yaml nc=80 with nc=1\n",
            "\n",
            "                   from  n    params  module                                       arguments                     \n",
            "  0                  -1  1       464  ultralytics.nn.modules.conv.Conv             [3, 16, 3, 2]                 \n",
            "  1                  -1  1      4672  ultralytics.nn.modules.conv.Conv             [16, 32, 3, 2]                \n",
            "  2                  -1  1      7360  ultralytics.nn.modules.block.C2f             [32, 32, 1, True]             \n",
            "  3                  -1  1     18560  ultralytics.nn.modules.conv.Conv             [32, 64, 3, 2]                \n",
            "  4                  -1  2     49664  ultralytics.nn.modules.block.C2f             [64, 64, 2, True]             \n",
            "  5                  -1  1     73984  ultralytics.nn.modules.conv.Conv             [64, 128, 3, 2]               \n",
            "  6                  -1  2    197632  ultralytics.nn.modules.block.C2f             [128, 128, 2, True]           \n",
            "  7                  -1  1    295424  ultralytics.nn.modules.conv.Conv             [128, 256, 3, 2]              \n",
            "  8                  -1  1    460288  ultralytics.nn.modules.block.C2f             [256, 256, 1, True]           \n",
            "  9                  -1  1    164608  ultralytics.nn.modules.block.SPPF            [256, 256, 5]                 \n",
            " 10                  -1  1         0  torch.nn.modules.upsampling.Upsample         [None, 2, 'nearest']          \n",
            " 11             [-1, 6]  1         0  ultralytics.nn.modules.conv.Concat           [1]                           \n",
            " 12                  -1  1    148224  ultralytics.nn.modules.block.C2f             [384, 128, 1]                 \n",
            " 13                  -1  1         0  torch.nn.modules.upsampling.Upsample         [None, 2, 'nearest']          \n",
            " 14             [-1, 4]  1         0  ultralytics.nn.modules.conv.Concat           [1]                           \n",
            " 15                  -1  1     37248  ultralytics.nn.modules.block.C2f             [192, 64, 1]                  \n",
            " 16                  -1  1     36992  ultralytics.nn.modules.conv.Conv             [64, 64, 3, 2]                \n",
            " 17            [-1, 12]  1         0  ultralytics.nn.modules.conv.Concat           [1]                           \n",
            " 18                  -1  1    123648  ultralytics.nn.modules.block.C2f             [192, 128, 1]                 \n",
            " 19                  -1  1    147712  ultralytics.nn.modules.conv.Conv             [128, 128, 3, 2]              \n",
            " 20             [-1, 9]  1         0  ultralytics.nn.modules.conv.Concat           [1]                           \n",
            " 21                  -1  1    493056  ultralytics.nn.modules.block.C2f             [384, 256, 1]                 \n",
            " 22        [15, 18, 21]  1    751507  ultralytics.nn.modules.head.Detect           [1, [64, 128, 256]]           \n",
            "Model summary: 225 layers, 3,011,043 parameters, 3,011,027 gradients, 8.2 GFLOPs\n",
            "\n",
            "Transferred 319/355 items from pretrained weights\n",
            "\u001b[34m\u001b[1mTensorBoard: \u001b[0mStart with 'tensorboard --logdir runs/detect/train3', view at http://localhost:6006/\n",
            "Freezing layer 'model.22.dfl.conv.weight'\n"
          ]
        },
        {
          "metadata": {
            "tags": null
          },
          "name": "stderr",
          "output_type": "stream",
          "text": [
            "\u001b[34m\u001b[1mtrain: \u001b[0mScanning /content/datasets/cars_license_plate/train/labels... 345 images, 0 backgrounds, 0 corrupt: 100%|██████████| 345/345 [00:00<00:00, 796.32it/s]"
          ]
        },
        {
          "metadata": {
            "tags": null
          },
          "name": "stdout",
          "output_type": "stream",
          "text": [
            "\u001b[34m\u001b[1mtrain: \u001b[0mNew cache created: /content/datasets/cars_license_plate/train/labels.cache\n"
          ]
        },
        {
          "metadata": {
            "tags": null
          },
          "name": "stderr",
          "output_type": "stream",
          "text": [
            "\n"
          ]
        },
        {
          "metadata": {
            "tags": null
          },
          "name": "stdout",
          "output_type": "stream",
          "text": [
            "WARNING ⚠️ cache='ram' may produce non-deterministic training results. Consider cache='disk' as a deterministic alternative if your disk space allows.\n"
          ]
        },
        {
          "metadata": {
            "tags": null
          },
          "name": "stderr",
          "output_type": "stream",
          "text": [
            "\u001b[34m\u001b[1mtrain: \u001b[0mCaching images (0.1GB RAM): 100%|██████████| 345/345 [00:04<00:00, 82.59it/s]\n"
          ]
        },
        {
          "metadata": {
            "tags": null
          },
          "name": "stdout",
          "output_type": "stream",
          "text": [
            "\u001b[34m\u001b[1malbumentations: \u001b[0mBlur(p=0.01, blur_limit=(3, 7)), MedianBlur(p=0.01, blur_limit=(3, 7)), ToGray(p=0.01, num_output_channels=3, method='weighted_average'), CLAHE(p=0.01, clip_limit=(1.0, 4.0), tile_grid_size=(8, 8))\n"
          ]
        },
        {
          "metadata": {
            "tags": null
          },
          "name": "stderr",
          "output_type": "stream",
          "text": [
            "\u001b[34m\u001b[1mval: \u001b[0mScanning /content/datasets/cars_license_plate/val/labels... 44 images, 0 backgrounds, 0 corrupt: 100%|██████████| 44/44 [00:00<00:00, 814.14it/s]"
          ]
        },
        {
          "metadata": {
            "tags": null
          },
          "name": "stdout",
          "output_type": "stream",
          "text": [
            "\u001b[34m\u001b[1mval: \u001b[0mNew cache created: /content/datasets/cars_license_plate/val/labels.cache\n"
          ]
        },
        {
          "metadata": {
            "tags": null
          },
          "name": "stderr",
          "output_type": "stream",
          "text": [
            "\n"
          ]
        },
        {
          "metadata": {
            "tags": null
          },
          "name": "stdout",
          "output_type": "stream",
          "text": [
            "WARNING ⚠️ cache='ram' may produce non-deterministic training results. Consider cache='disk' as a deterministic alternative if your disk space allows.\n"
          ]
        },
        {
          "metadata": {
            "tags": null
          },
          "name": "stderr",
          "output_type": "stream",
          "text": [
            "\u001b[34m\u001b[1mval: \u001b[0mCaching images (0.0GB RAM): 100%|██████████| 44/44 [00:00<00:00, 82.28it/s]"
          ]
        },
        {
          "metadata": {
            "tags": null
          },
          "name": "stdout",
          "output_type": "stream",
          "text": [
            "Plotting labels to runs/detect/train3/labels.jpg... \n"
          ]
        },
        {
          "metadata": {
            "tags": null
          },
          "name": "stderr",
          "output_type": "stream",
          "text": [
            "\n"
          ]
        },
        {
          "metadata": {
            "tags": null
          },
          "name": "stdout",
          "output_type": "stream",
          "text": [
            "\u001b[34m\u001b[1moptimizer:\u001b[0m 'optimizer=auto' found, ignoring 'lr0=0.01' and 'momentum=0.937' and determining best 'optimizer', 'lr0' and 'momentum' automatically... \n",
            "\u001b[34m\u001b[1moptimizer:\u001b[0m AdamW(lr=0.002, momentum=0.9) with parameter groups 57 weight(decay=0.0), 64 weight(decay=0.0005), 63 bias(decay=0.0)\n",
            "\u001b[34m\u001b[1mTensorBoard: \u001b[0mmodel graph visualization added ✅\n",
            "Image sizes 320 train, 320 val\n",
            "Using 0 dataloader workers\n",
            "Logging results to \u001b[1mruns/detect/train3\u001b[0m\n",
            "Starting training for 100 epochs...\n",
            "\n",
            "      Epoch    GPU_mem   box_loss   cls_loss   dfl_loss  Instances       Size\n"
          ]
        },
        {
          "metadata": {
            "tags": null
          },
          "name": "stderr",
          "output_type": "stream",
          "text": [
            "      1/100         0G      1.649      2.833      1.291         18        320: 100%|██████████| 22/22 [00:50<00:00,  2.28s/it]\n",
            "                 Class     Images  Instances      Box(P          R      mAP50  mAP50-95): 100%|██████████| 2/2 [00:02<00:00,  1.18s/it]"
          ]
        },
        {
          "metadata": {
            "tags": null
          },
          "name": "stdout",
          "output_type": "stream",
          "text": [
            "                   all         44         44    0.00346      0.909      0.445      0.238\n"
          ]
        },
        {
          "metadata": {
            "tags": null
          },
          "name": "stderr",
          "output_type": "stream",
          "text": [
            "\n"
          ]
        },
        {
          "metadata": {
            "tags": null
          },
          "name": "stdout",
          "output_type": "stream",
          "text": [
            "\n",
            "      Epoch    GPU_mem   box_loss   cls_loss   dfl_loss  Instances       Size\n"
          ]
        },
        {
          "metadata": {
            "tags": null
          },
          "name": "stderr",
          "output_type": "stream",
          "text": [
            "      2/100         0G      1.528      1.512      1.125         19        320: 100%|██████████| 22/22 [00:46<00:00,  2.10s/it]\n",
            "                 Class     Images  Instances      Box(P          R      mAP50  mAP50-95): 100%|██████████| 2/2 [00:01<00:00,  1.12it/s]"
          ]
        },
        {
          "metadata": {
            "tags": null
          },
          "name": "stdout",
          "output_type": "stream",
          "text": [
            "                   all         44         44    0.00526      0.932      0.218      0.121\n"
          ]
        },
        {
          "metadata": {
            "tags": null
          },
          "name": "stderr",
          "output_type": "stream",
          "text": [
            "\n"
          ]
        },
        {
          "metadata": {
            "tags": null
          },
          "name": "stdout",
          "output_type": "stream",
          "text": [
            "\n",
            "      Epoch    GPU_mem   box_loss   cls_loss   dfl_loss  Instances       Size\n"
          ]
        },
        {
          "metadata": {
            "tags": null
          },
          "name": "stderr",
          "output_type": "stream",
          "text": [
            "      3/100         0G      1.566      1.432      1.171         18        320: 100%|██████████| 22/22 [00:47<00:00,  2.16s/it]\n",
            "                 Class     Images  Instances      Box(P          R      mAP50  mAP50-95): 100%|██████████| 2/2 [00:01<00:00,  1.15it/s]"
          ]
        },
        {
          "metadata": {
            "tags": null
          },
          "name": "stdout",
          "output_type": "stream",
          "text": [
            "                   all         44         44      0.701      0.273      0.442      0.195\n"
          ]
        },
        {
          "metadata": {
            "tags": null
          },
          "name": "stderr",
          "output_type": "stream",
          "text": [
            "\n"
          ]
        },
        {
          "metadata": {
            "tags": null
          },
          "name": "stdout",
          "output_type": "stream",
          "text": [
            "\n",
            "      Epoch    GPU_mem   box_loss   cls_loss   dfl_loss  Instances       Size\n"
          ]
        },
        {
          "metadata": {
            "tags": null
          },
          "name": "stderr",
          "output_type": "stream",
          "text": [
            "      4/100         0G      1.513      1.344      1.145         20        320: 100%|██████████| 22/22 [00:44<00:00,  2.03s/it]\n",
            "                 Class     Images  Instances      Box(P          R      mAP50  mAP50-95): 100%|██████████| 2/2 [00:01<00:00,  1.17it/s]"
          ]
        },
        {
          "metadata": {
            "tags": null
          },
          "name": "stdout",
          "output_type": "stream",
          "text": [
            "                   all         44         44      0.176      0.364      0.134     0.0685\n"
          ]
        },
        {
          "metadata": {
            "tags": null
          },
          "name": "stderr",
          "output_type": "stream",
          "text": [
            "\n"
          ]
        },
        {
          "metadata": {
            "tags": null
          },
          "name": "stdout",
          "output_type": "stream",
          "text": [
            "\n",
            "      Epoch    GPU_mem   box_loss   cls_loss   dfl_loss  Instances       Size\n"
          ]
        },
        {
          "metadata": {
            "tags": null
          },
          "name": "stderr",
          "output_type": "stream",
          "text": [
            "      5/100         0G      1.523      1.289      1.155         14        320: 100%|██████████| 22/22 [00:45<00:00,  2.06s/it]\n",
            "                 Class     Images  Instances      Box(P          R      mAP50  mAP50-95): 100%|██████████| 2/2 [00:01<00:00,  1.05it/s]"
          ]
        },
        {
          "metadata": {
            "tags": null
          },
          "name": "stdout",
          "output_type": "stream",
          "text": [
            "                   all         44         44      0.148      0.568      0.134      0.064\n"
          ]
        },
        {
          "metadata": {
            "tags": null
          },
          "name": "stderr",
          "output_type": "stream",
          "text": [
            "\n"
          ]
        },
        {
          "metadata": {
            "tags": null
          },
          "name": "stdout",
          "output_type": "stream",
          "text": [
            "\n",
            "      Epoch    GPU_mem   box_loss   cls_loss   dfl_loss  Instances       Size\n"
          ]
        },
        {
          "metadata": {
            "tags": null
          },
          "name": "stderr",
          "output_type": "stream",
          "text": [
            "      6/100         0G       1.49      1.236      1.197         14        320: 100%|██████████| 22/22 [00:45<00:00,  2.05s/it]\n",
            "                 Class     Images  Instances      Box(P          R      mAP50  mAP50-95): 100%|██████████| 2/2 [00:01<00:00,  1.15it/s]"
          ]
        },
        {
          "metadata": {
            "tags": null
          },
          "name": "stdout",
          "output_type": "stream",
          "text": [
            "                   all         44         44       0.41      0.341      0.385      0.199\n"
          ]
        },
        {
          "metadata": {
            "tags": null
          },
          "name": "stderr",
          "output_type": "stream",
          "text": [
            "\n"
          ]
        },
        {
          "metadata": {
            "tags": null
          },
          "name": "stdout",
          "output_type": "stream",
          "text": [
            "\n",
            "      Epoch    GPU_mem   box_loss   cls_loss   dfl_loss  Instances       Size\n"
          ]
        },
        {
          "metadata": {
            "tags": null
          },
          "name": "stderr",
          "output_type": "stream",
          "text": [
            "      7/100         0G       1.47      1.161      1.133         17        320: 100%|██████████| 22/22 [00:45<00:00,  2.07s/it]\n",
            "                 Class     Images  Instances      Box(P          R      mAP50  mAP50-95): 100%|██████████| 2/2 [00:02<00:00,  1.18s/it]"
          ]
        },
        {
          "metadata": {
            "tags": null
          },
          "name": "stdout",
          "output_type": "stream",
          "text": [
            "                   all         44         44      0.837      0.636      0.783      0.351\n"
          ]
        },
        {
          "metadata": {
            "tags": null
          },
          "name": "stderr",
          "output_type": "stream",
          "text": [
            "\n"
          ]
        },
        {
          "metadata": {
            "tags": null
          },
          "name": "stdout",
          "output_type": "stream",
          "text": [
            "\n",
            "      Epoch    GPU_mem   box_loss   cls_loss   dfl_loss  Instances       Size\n"
          ]
        },
        {
          "metadata": {
            "tags": null
          },
          "name": "stderr",
          "output_type": "stream",
          "text": [
            "      8/100         0G      1.447      1.103      1.128         18        320: 100%|██████████| 22/22 [00:45<00:00,  2.07s/it]\n",
            "                 Class     Images  Instances      Box(P          R      mAP50  mAP50-95): 100%|██████████| 2/2 [00:01<00:00,  1.16it/s]"
          ]
        },
        {
          "metadata": {
            "tags": null
          },
          "name": "stdout",
          "output_type": "stream",
          "text": [
            "                   all         44         44      0.837      0.818      0.866      0.409\n"
          ]
        },
        {
          "metadata": {
            "tags": null
          },
          "name": "stderr",
          "output_type": "stream",
          "text": [
            "\n"
          ]
        },
        {
          "metadata": {
            "tags": null
          },
          "name": "stdout",
          "output_type": "stream",
          "text": [
            "\n",
            "      Epoch    GPU_mem   box_loss   cls_loss   dfl_loss  Instances       Size\n"
          ]
        },
        {
          "metadata": {
            "tags": null
          },
          "name": "stderr",
          "output_type": "stream",
          "text": [
            "      9/100         0G       1.51      1.104      1.145         15        320: 100%|██████████| 22/22 [00:48<00:00,  2.22s/it]\n",
            "                 Class     Images  Instances      Box(P          R      mAP50  mAP50-95): 100%|██████████| 2/2 [00:01<00:00,  1.17it/s]"
          ]
        },
        {
          "metadata": {
            "tags": null
          },
          "name": "stdout",
          "output_type": "stream",
          "text": [
            "                   all         44         44      0.838      0.886      0.823      0.413\n"
          ]
        },
        {
          "metadata": {
            "tags": null
          },
          "name": "stderr",
          "output_type": "stream",
          "text": [
            "\n"
          ]
        },
        {
          "metadata": {
            "tags": null
          },
          "name": "stdout",
          "output_type": "stream",
          "text": [
            "\n",
            "      Epoch    GPU_mem   box_loss   cls_loss   dfl_loss  Instances       Size\n"
          ]
        },
        {
          "metadata": {
            "tags": null
          },
          "name": "stderr",
          "output_type": "stream",
          "text": [
            "     10/100         0G       1.44      1.074      1.141         18        320: 100%|██████████| 22/22 [00:45<00:00,  2.05s/it]\n",
            "                 Class     Images  Instances      Box(P          R      mAP50  mAP50-95): 100%|██████████| 2/2 [00:01<00:00,  1.19it/s]"
          ]
        },
        {
          "metadata": {
            "tags": null
          },
          "name": "stdout",
          "output_type": "stream",
          "text": [
            "                   all         44         44       0.67      0.705       0.71      0.373\n"
          ]
        },
        {
          "metadata": {
            "tags": null
          },
          "name": "stderr",
          "output_type": "stream",
          "text": [
            "\n"
          ]
        },
        {
          "metadata": {
            "tags": null
          },
          "name": "stdout",
          "output_type": "stream",
          "text": [
            "\n",
            "      Epoch    GPU_mem   box_loss   cls_loss   dfl_loss  Instances       Size\n"
          ]
        },
        {
          "metadata": {
            "tags": null
          },
          "name": "stderr",
          "output_type": "stream",
          "text": [
            "     11/100         0G      1.372      1.008       1.13         14        320: 100%|██████████| 22/22 [00:45<00:00,  2.09s/it]\n",
            "                 Class     Images  Instances      Box(P          R      mAP50  mAP50-95): 100%|██████████| 2/2 [00:01<00:00,  1.20it/s]"
          ]
        },
        {
          "metadata": {
            "tags": null
          },
          "name": "stdout",
          "output_type": "stream",
          "text": [
            "                   all         44         44       0.88      0.831      0.858      0.379\n"
          ]
        },
        {
          "metadata": {
            "tags": null
          },
          "name": "stderr",
          "output_type": "stream",
          "text": [
            "\n"
          ]
        },
        {
          "metadata": {
            "tags": null
          },
          "name": "stdout",
          "output_type": "stream",
          "text": [
            "\n",
            "      Epoch    GPU_mem   box_loss   cls_loss   dfl_loss  Instances       Size\n"
          ]
        },
        {
          "metadata": {
            "tags": null
          },
          "name": "stderr",
          "output_type": "stream",
          "text": [
            "     12/100         0G      1.344     0.9491      1.112         15        320: 100%|██████████| 22/22 [00:45<00:00,  2.06s/it]\n",
            "                 Class     Images  Instances      Box(P          R      mAP50  mAP50-95): 100%|██████████| 2/2 [00:01<00:00,  1.16it/s]"
          ]
        },
        {
          "metadata": {
            "tags": null
          },
          "name": "stdout",
          "output_type": "stream",
          "text": [
            "                   all         44         44      0.906      0.773      0.846      0.413\n"
          ]
        },
        {
          "metadata": {
            "tags": null
          },
          "name": "stderr",
          "output_type": "stream",
          "text": [
            "\n"
          ]
        },
        {
          "metadata": {
            "tags": null
          },
          "name": "stdout",
          "output_type": "stream",
          "text": [
            "\n",
            "      Epoch    GPU_mem   box_loss   cls_loss   dfl_loss  Instances       Size\n"
          ]
        },
        {
          "metadata": {
            "tags": null
          },
          "name": "stderr",
          "output_type": "stream",
          "text": [
            "     13/100         0G      1.387     0.9517      1.107         18        320: 100%|██████████| 22/22 [00:46<00:00,  2.09s/it]\n",
            "                 Class     Images  Instances      Box(P          R      mAP50  mAP50-95): 100%|██████████| 2/2 [00:01<00:00,  1.16it/s]"
          ]
        },
        {
          "metadata": {
            "tags": null
          },
          "name": "stdout",
          "output_type": "stream",
          "text": [
            "                   all         44         44       0.76      0.636      0.707      0.371\n"
          ]
        },
        {
          "metadata": {
            "tags": null
          },
          "name": "stderr",
          "output_type": "stream",
          "text": [
            "\n"
          ]
        },
        {
          "metadata": {
            "tags": null
          },
          "name": "stdout",
          "output_type": "stream",
          "text": [
            "\n",
            "      Epoch    GPU_mem   box_loss   cls_loss   dfl_loss  Instances       Size\n"
          ]
        },
        {
          "metadata": {
            "tags": null
          },
          "name": "stderr",
          "output_type": "stream",
          "text": [
            "     14/100         0G      1.348     0.9325      1.096         21        320: 100%|██████████| 22/22 [00:46<00:00,  2.10s/it]\n",
            "                 Class     Images  Instances      Box(P          R      mAP50  mAP50-95): 100%|██████████| 2/2 [00:01<00:00,  1.16it/s]"
          ]
        },
        {
          "metadata": {
            "tags": null
          },
          "name": "stdout",
          "output_type": "stream",
          "text": [
            "                   all         44         44      0.825      0.864      0.847      0.466\n"
          ]
        },
        {
          "metadata": {
            "tags": null
          },
          "name": "stderr",
          "output_type": "stream",
          "text": [
            "\n"
          ]
        },
        {
          "metadata": {
            "tags": null
          },
          "name": "stdout",
          "output_type": "stream",
          "text": [
            "\n",
            "      Epoch    GPU_mem   box_loss   cls_loss   dfl_loss  Instances       Size\n"
          ]
        },
        {
          "metadata": {
            "tags": null
          },
          "name": "stderr",
          "output_type": "stream",
          "text": [
            "     15/100         0G      1.349     0.8758      1.127         13        320: 100%|██████████| 22/22 [00:45<00:00,  2.08s/it]\n",
            "                 Class     Images  Instances      Box(P          R      mAP50  mAP50-95): 100%|██████████| 2/2 [00:01<00:00,  1.17it/s]"
          ]
        },
        {
          "metadata": {
            "tags": null
          },
          "name": "stdout",
          "output_type": "stream",
          "text": [
            "                   all         44         44      0.873      0.841      0.888      0.471\n"
          ]
        },
        {
          "metadata": {
            "tags": null
          },
          "name": "stderr",
          "output_type": "stream",
          "text": [
            "\n"
          ]
        },
        {
          "metadata": {
            "tags": null
          },
          "name": "stdout",
          "output_type": "stream",
          "text": [
            "\n",
            "      Epoch    GPU_mem   box_loss   cls_loss   dfl_loss  Instances       Size\n"
          ]
        },
        {
          "metadata": {
            "tags": null
          },
          "name": "stderr",
          "output_type": "stream",
          "text": [
            "     16/100         0G       1.25     0.8565      1.086         16        320: 100%|██████████| 22/22 [00:44<00:00,  2.04s/it]\n",
            "                 Class     Images  Instances      Box(P          R      mAP50  mAP50-95): 100%|██████████| 2/2 [00:01<00:00,  1.14it/s]"
          ]
        },
        {
          "metadata": {
            "tags": null
          },
          "name": "stdout",
          "output_type": "stream",
          "text": [
            "                   all         44         44      0.897      0.841      0.901      0.429\n"
          ]
        },
        {
          "metadata": {
            "tags": null
          },
          "name": "stderr",
          "output_type": "stream",
          "text": [
            "\n"
          ]
        },
        {
          "metadata": {
            "tags": null
          },
          "name": "stdout",
          "output_type": "stream",
          "text": [
            "\n",
            "      Epoch    GPU_mem   box_loss   cls_loss   dfl_loss  Instances       Size\n"
          ]
        },
        {
          "metadata": {
            "tags": null
          },
          "name": "stderr",
          "output_type": "stream",
          "text": [
            "     17/100         0G      1.337     0.8756      1.108         17        320: 100%|██████████| 22/22 [00:46<00:00,  2.12s/it]\n",
            "                 Class     Images  Instances      Box(P          R      mAP50  mAP50-95): 100%|██████████| 2/2 [00:01<00:00,  1.13it/s]"
          ]
        },
        {
          "metadata": {
            "tags": null
          },
          "name": "stdout",
          "output_type": "stream",
          "text": [
            "                   all         44         44        0.8      0.864      0.845       0.46\n"
          ]
        },
        {
          "metadata": {
            "tags": null
          },
          "name": "stderr",
          "output_type": "stream",
          "text": [
            "\n"
          ]
        },
        {
          "metadata": {
            "tags": null
          },
          "name": "stdout",
          "output_type": "stream",
          "text": [
            "\n",
            "      Epoch    GPU_mem   box_loss   cls_loss   dfl_loss  Instances       Size\n"
          ]
        },
        {
          "metadata": {
            "tags": null
          },
          "name": "stderr",
          "output_type": "stream",
          "text": [
            "     18/100         0G      1.296     0.8476      1.083         16        320: 100%|██████████| 22/22 [00:45<00:00,  2.06s/it]\n",
            "                 Class     Images  Instances      Box(P          R      mAP50  mAP50-95): 100%|██████████| 2/2 [00:01<00:00,  1.04it/s]"
          ]
        },
        {
          "metadata": {
            "tags": null
          },
          "name": "stdout",
          "output_type": "stream",
          "text": [
            "                   all         44         44      0.937      0.818      0.884      0.458\n"
          ]
        },
        {
          "metadata": {
            "tags": null
          },
          "name": "stderr",
          "output_type": "stream",
          "text": [
            "\n"
          ]
        },
        {
          "metadata": {
            "tags": null
          },
          "name": "stdout",
          "output_type": "stream",
          "text": [
            "\n",
            "      Epoch    GPU_mem   box_loss   cls_loss   dfl_loss  Instances       Size\n"
          ]
        },
        {
          "metadata": {
            "tags": null
          },
          "name": "stderr",
          "output_type": "stream",
          "text": [
            "     19/100         0G      1.313     0.8366      1.064         20        320: 100%|██████████| 22/22 [00:45<00:00,  2.06s/it]\n",
            "                 Class     Images  Instances      Box(P          R      mAP50  mAP50-95): 100%|██████████| 2/2 [00:01<00:00,  1.19it/s]"
          ]
        },
        {
          "metadata": {
            "tags": null
          },
          "name": "stdout",
          "output_type": "stream",
          "text": [
            "                   all         44         44      0.837      0.886      0.867      0.448\n"
          ]
        },
        {
          "metadata": {
            "tags": null
          },
          "name": "stderr",
          "output_type": "stream",
          "text": [
            "\n"
          ]
        },
        {
          "metadata": {
            "tags": null
          },
          "name": "stdout",
          "output_type": "stream",
          "text": [
            "\n",
            "      Epoch    GPU_mem   box_loss   cls_loss   dfl_loss  Instances       Size\n"
          ]
        },
        {
          "metadata": {
            "tags": null
          },
          "name": "stderr",
          "output_type": "stream",
          "text": [
            "     20/100         0G      1.298     0.8291      1.084         18        320: 100%|██████████| 22/22 [00:44<00:00,  2.03s/it]\n",
            "                 Class     Images  Instances      Box(P          R      mAP50  mAP50-95): 100%|██████████| 2/2 [00:01<00:00,  1.22it/s]"
          ]
        },
        {
          "metadata": {
            "tags": null
          },
          "name": "stdout",
          "output_type": "stream",
          "text": [
            "                   all         44         44      0.877       0.81      0.852       0.48\n"
          ]
        },
        {
          "metadata": {
            "tags": null
          },
          "name": "stderr",
          "output_type": "stream",
          "text": [
            "\n"
          ]
        },
        {
          "metadata": {
            "tags": null
          },
          "name": "stdout",
          "output_type": "stream",
          "text": [
            "\n",
            "      Epoch    GPU_mem   box_loss   cls_loss   dfl_loss  Instances       Size\n"
          ]
        },
        {
          "metadata": {
            "tags": null
          },
          "name": "stderr",
          "output_type": "stream",
          "text": [
            "     21/100         0G      1.308     0.8125      1.066         23        320: 100%|██████████| 22/22 [00:45<00:00,  2.09s/it]\n",
            "                 Class     Images  Instances      Box(P          R      mAP50  mAP50-95): 100%|██████████| 2/2 [00:01<00:00,  1.18it/s]"
          ]
        },
        {
          "metadata": {
            "tags": null
          },
          "name": "stdout",
          "output_type": "stream",
          "text": [
            "                   all         44         44      0.875      0.864      0.859      0.465\n"
          ]
        },
        {
          "metadata": {
            "tags": null
          },
          "name": "stderr",
          "output_type": "stream",
          "text": [
            "\n"
          ]
        },
        {
          "metadata": {
            "tags": null
          },
          "name": "stdout",
          "output_type": "stream",
          "text": [
            "\n",
            "      Epoch    GPU_mem   box_loss   cls_loss   dfl_loss  Instances       Size\n"
          ]
        },
        {
          "metadata": {
            "tags": null
          },
          "name": "stderr",
          "output_type": "stream",
          "text": [
            "     22/100         0G      1.301     0.8367      1.063         18        320: 100%|██████████| 22/22 [00:46<00:00,  2.10s/it]\n",
            "                 Class     Images  Instances      Box(P          R      mAP50  mAP50-95): 100%|██████████| 2/2 [00:01<00:00,  1.16it/s]"
          ]
        },
        {
          "metadata": {
            "tags": null
          },
          "name": "stdout",
          "output_type": "stream",
          "text": [
            "                   all         44         44      0.883      0.861      0.873      0.442\n"
          ]
        },
        {
          "metadata": {
            "tags": null
          },
          "name": "stderr",
          "output_type": "stream",
          "text": [
            "\n"
          ]
        },
        {
          "metadata": {
            "tags": null
          },
          "name": "stdout",
          "output_type": "stream",
          "text": [
            "\n",
            "      Epoch    GPU_mem   box_loss   cls_loss   dfl_loss  Instances       Size\n"
          ]
        },
        {
          "metadata": {
            "tags": null
          },
          "name": "stderr",
          "output_type": "stream",
          "text": [
            "     23/100         0G      1.224     0.7857      1.045         23        320: 100%|██████████| 22/22 [00:46<00:00,  2.13s/it]\n",
            "                 Class     Images  Instances      Box(P          R      mAP50  mAP50-95): 100%|██████████| 2/2 [00:01<00:00,  1.15it/s]"
          ]
        },
        {
          "metadata": {
            "tags": null
          },
          "name": "stdout",
          "output_type": "stream",
          "text": [
            "                   all         44         44      0.906       0.88      0.914      0.507\n"
          ]
        },
        {
          "metadata": {
            "tags": null
          },
          "name": "stderr",
          "output_type": "stream",
          "text": [
            "\n"
          ]
        },
        {
          "metadata": {
            "tags": null
          },
          "name": "stdout",
          "output_type": "stream",
          "text": [
            "\n",
            "      Epoch    GPU_mem   box_loss   cls_loss   dfl_loss  Instances       Size\n"
          ]
        },
        {
          "metadata": {
            "tags": null
          },
          "name": "stderr",
          "output_type": "stream",
          "text": [
            "     24/100         0G      1.162     0.7295      1.047         15        320: 100%|██████████| 22/22 [00:46<00:00,  2.10s/it]\n",
            "                 Class     Images  Instances      Box(P          R      mAP50  mAP50-95): 100%|██████████| 2/2 [00:02<00:00,  1.14s/it]"
          ]
        },
        {
          "metadata": {
            "tags": null
          },
          "name": "stdout",
          "output_type": "stream",
          "text": [
            "                   all         44         44      0.855      0.818      0.854       0.44\n"
          ]
        },
        {
          "metadata": {
            "tags": null
          },
          "name": "stderr",
          "output_type": "stream",
          "text": [
            "\n"
          ]
        },
        {
          "metadata": {
            "tags": null
          },
          "name": "stdout",
          "output_type": "stream",
          "text": [
            "\n",
            "      Epoch    GPU_mem   box_loss   cls_loss   dfl_loss  Instances       Size\n"
          ]
        },
        {
          "metadata": {
            "tags": null
          },
          "name": "stderr",
          "output_type": "stream",
          "text": [
            "     25/100         0G      1.181     0.7654      1.035         16        320: 100%|██████████| 22/22 [00:46<00:00,  2.11s/it]\n",
            "                 Class     Images  Instances      Box(P          R      mAP50  mAP50-95): 100%|██████████| 2/2 [00:01<00:00,  1.11it/s]"
          ]
        },
        {
          "metadata": {
            "tags": null
          },
          "name": "stdout",
          "output_type": "stream",
          "text": [
            "                   all         44         44      0.937      0.795      0.883      0.504\n"
          ]
        },
        {
          "metadata": {
            "tags": null
          },
          "name": "stderr",
          "output_type": "stream",
          "text": [
            "\n"
          ]
        },
        {
          "metadata": {
            "tags": null
          },
          "name": "stdout",
          "output_type": "stream",
          "text": [
            "\n",
            "      Epoch    GPU_mem   box_loss   cls_loss   dfl_loss  Instances       Size\n"
          ]
        },
        {
          "metadata": {
            "tags": null
          },
          "name": "stderr",
          "output_type": "stream",
          "text": [
            "     26/100         0G      1.165     0.7567       1.04         24        320: 100%|██████████| 22/22 [00:44<00:00,  2.02s/it]\n",
            "                 Class     Images  Instances      Box(P          R      mAP50  mAP50-95): 100%|██████████| 2/2 [00:02<00:00,  1.10s/it]"
          ]
        },
        {
          "metadata": {
            "tags": null
          },
          "name": "stdout",
          "output_type": "stream",
          "text": [
            "                   all         44         44      0.934      0.841      0.916      0.476\n"
          ]
        },
        {
          "metadata": {
            "tags": null
          },
          "name": "stderr",
          "output_type": "stream",
          "text": [
            "\n"
          ]
        },
        {
          "metadata": {
            "tags": null
          },
          "name": "stdout",
          "output_type": "stream",
          "text": [
            "\n",
            "      Epoch    GPU_mem   box_loss   cls_loss   dfl_loss  Instances       Size\n"
          ]
        },
        {
          "metadata": {
            "tags": null
          },
          "name": "stderr",
          "output_type": "stream",
          "text": [
            "     27/100         0G      1.157      0.748      1.028         23        320: 100%|██████████| 22/22 [00:45<00:00,  2.07s/it]\n",
            "                 Class     Images  Instances      Box(P          R      mAP50  mAP50-95): 100%|██████████| 2/2 [00:01<00:00,  1.15it/s]"
          ]
        },
        {
          "metadata": {
            "tags": null
          },
          "name": "stdout",
          "output_type": "stream",
          "text": [
            "                   all         44         44       0.85      0.841        0.9      0.511\n"
          ]
        },
        {
          "metadata": {
            "tags": null
          },
          "name": "stderr",
          "output_type": "stream",
          "text": [
            "\n"
          ]
        },
        {
          "metadata": {
            "tags": null
          },
          "name": "stdout",
          "output_type": "stream",
          "text": [
            "\n",
            "      Epoch    GPU_mem   box_loss   cls_loss   dfl_loss  Instances       Size\n"
          ]
        },
        {
          "metadata": {
            "tags": null
          },
          "name": "stderr",
          "output_type": "stream",
          "text": [
            "     28/100         0G      1.136     0.7104       1.01         21        320: 100%|██████████| 22/22 [00:45<00:00,  2.06s/it]\n",
            "                 Class     Images  Instances      Box(P          R      mAP50  mAP50-95): 100%|██████████| 2/2 [00:02<00:00,  1.15s/it]"
          ]
        },
        {
          "metadata": {
            "tags": null
          },
          "name": "stdout",
          "output_type": "stream",
          "text": [
            "                   all         44         44      0.902      0.838      0.886      0.476\n"
          ]
        },
        {
          "metadata": {
            "tags": null
          },
          "name": "stderr",
          "output_type": "stream",
          "text": [
            "\n"
          ]
        },
        {
          "metadata": {
            "tags": null
          },
          "name": "stdout",
          "output_type": "stream",
          "text": [
            "\n",
            "      Epoch    GPU_mem   box_loss   cls_loss   dfl_loss  Instances       Size\n"
          ]
        },
        {
          "metadata": {
            "tags": null
          },
          "name": "stderr",
          "output_type": "stream",
          "text": [
            "     29/100         0G      1.142     0.7317     0.9979         17        320: 100%|██████████| 22/22 [00:46<00:00,  2.09s/it]\n",
            "                 Class     Images  Instances      Box(P          R      mAP50  mAP50-95): 100%|██████████| 2/2 [00:01<00:00,  1.15it/s]"
          ]
        },
        {
          "metadata": {
            "tags": null
          },
          "name": "stdout",
          "output_type": "stream",
          "text": [
            "                   all         44         44      0.939      0.818      0.891      0.478\n"
          ]
        },
        {
          "metadata": {
            "tags": null
          },
          "name": "stderr",
          "output_type": "stream",
          "text": [
            "\n"
          ]
        },
        {
          "metadata": {
            "tags": null
          },
          "name": "stdout",
          "output_type": "stream",
          "text": [
            "\n",
            "      Epoch    GPU_mem   box_loss   cls_loss   dfl_loss  Instances       Size\n"
          ]
        },
        {
          "metadata": {
            "tags": null
          },
          "name": "stderr",
          "output_type": "stream",
          "text": [
            "     30/100         0G      1.149      0.728       1.02         14        320: 100%|██████████| 22/22 [00:45<00:00,  2.07s/it]\n",
            "                 Class     Images  Instances      Box(P          R      mAP50  mAP50-95): 100%|██████████| 2/2 [00:02<00:00,  1.20s/it]"
          ]
        },
        {
          "metadata": {
            "tags": null
          },
          "name": "stdout",
          "output_type": "stream",
          "text": [
            "                   all         44         44      0.922      0.804      0.892       0.51\n"
          ]
        },
        {
          "metadata": {
            "tags": null
          },
          "name": "stderr",
          "output_type": "stream",
          "text": [
            "\n"
          ]
        },
        {
          "metadata": {
            "tags": null
          },
          "name": "stdout",
          "output_type": "stream",
          "text": [
            "\n",
            "      Epoch    GPU_mem   box_loss   cls_loss   dfl_loss  Instances       Size\n"
          ]
        },
        {
          "metadata": {
            "tags": null
          },
          "name": "stderr",
          "output_type": "stream",
          "text": [
            "     31/100         0G      1.158     0.7221      1.021         20        320: 100%|██████████| 22/22 [00:46<00:00,  2.10s/it]\n",
            "                 Class     Images  Instances      Box(P          R      mAP50  mAP50-95): 100%|██████████| 2/2 [00:01<00:00,  1.14it/s]"
          ]
        },
        {
          "metadata": {
            "tags": null
          },
          "name": "stdout",
          "output_type": "stream",
          "text": [
            "                   all         44         44      0.948      0.836      0.935      0.509\n"
          ]
        },
        {
          "metadata": {
            "tags": null
          },
          "name": "stderr",
          "output_type": "stream",
          "text": [
            "\n"
          ]
        },
        {
          "metadata": {
            "tags": null
          },
          "name": "stdout",
          "output_type": "stream",
          "text": [
            "\n",
            "      Epoch    GPU_mem   box_loss   cls_loss   dfl_loss  Instances       Size\n"
          ]
        },
        {
          "metadata": {
            "tags": null
          },
          "name": "stderr",
          "output_type": "stream",
          "text": [
            "     32/100         0G       1.11     0.7119      1.015         15        320: 100%|██████████| 22/22 [00:47<00:00,  2.15s/it]\n",
            "                 Class     Images  Instances      Box(P          R      mAP50  mAP50-95): 100%|██████████| 2/2 [00:01<00:00,  1.06it/s]"
          ]
        },
        {
          "metadata": {
            "tags": null
          },
          "name": "stdout",
          "output_type": "stream",
          "text": [
            "                   all         44         44      0.948      0.835      0.876      0.458\n"
          ]
        },
        {
          "metadata": {
            "tags": null
          },
          "name": "stderr",
          "output_type": "stream",
          "text": [
            "\n"
          ]
        },
        {
          "metadata": {
            "tags": null
          },
          "name": "stdout",
          "output_type": "stream",
          "text": [
            "\n",
            "      Epoch    GPU_mem   box_loss   cls_loss   dfl_loss  Instances       Size\n"
          ]
        },
        {
          "metadata": {
            "tags": null
          },
          "name": "stderr",
          "output_type": "stream",
          "text": [
            "     33/100         0G       1.14     0.6952      1.014         10        320: 100%|██████████| 22/22 [00:46<00:00,  2.09s/it]\n",
            "                 Class     Images  Instances      Box(P          R      mAP50  mAP50-95): 100%|██████████| 2/2 [00:01<00:00,  1.17it/s]"
          ]
        },
        {
          "metadata": {
            "tags": null
          },
          "name": "stdout",
          "output_type": "stream",
          "text": [
            "                   all         44         44      0.892      0.864       0.91      0.516\n"
          ]
        },
        {
          "metadata": {
            "tags": null
          },
          "name": "stderr",
          "output_type": "stream",
          "text": [
            "\n"
          ]
        },
        {
          "metadata": {
            "tags": null
          },
          "name": "stdout",
          "output_type": "stream",
          "text": [
            "\n",
            "      Epoch    GPU_mem   box_loss   cls_loss   dfl_loss  Instances       Size\n"
          ]
        },
        {
          "metadata": {
            "tags": null
          },
          "name": "stderr",
          "output_type": "stream",
          "text": [
            "     34/100         0G      1.099     0.6879      1.009         17        320: 100%|██████████| 22/22 [00:47<00:00,  2.15s/it]\n",
            "                 Class     Images  Instances      Box(P          R      mAP50  mAP50-95): 100%|██████████| 2/2 [00:01<00:00,  1.17it/s]"
          ]
        },
        {
          "metadata": {
            "tags": null
          },
          "name": "stdout",
          "output_type": "stream",
          "text": [
            "                   all         44         44      0.907      0.884      0.887      0.495\n"
          ]
        },
        {
          "metadata": {
            "tags": null
          },
          "name": "stderr",
          "output_type": "stream",
          "text": [
            "\n"
          ]
        },
        {
          "metadata": {
            "tags": null
          },
          "name": "stdout",
          "output_type": "stream",
          "text": [
            "\n",
            "      Epoch    GPU_mem   box_loss   cls_loss   dfl_loss  Instances       Size\n"
          ]
        },
        {
          "metadata": {
            "tags": null
          },
          "name": "stderr",
          "output_type": "stream",
          "text": [
            "     35/100         0G      1.122     0.6906      1.022         22        320: 100%|██████████| 22/22 [00:46<00:00,  2.12s/it]\n",
            "                 Class     Images  Instances      Box(P          R      mAP50  mAP50-95): 100%|██████████| 2/2 [00:01<00:00,  1.05it/s]"
          ]
        },
        {
          "metadata": {
            "tags": null
          },
          "name": "stdout",
          "output_type": "stream",
          "text": [
            "                   all         44         44      0.883      0.864      0.913      0.475\n"
          ]
        },
        {
          "metadata": {
            "tags": null
          },
          "name": "stderr",
          "output_type": "stream",
          "text": [
            "\n"
          ]
        },
        {
          "metadata": {
            "tags": null
          },
          "name": "stdout",
          "output_type": "stream",
          "text": [
            "\n",
            "      Epoch    GPU_mem   box_loss   cls_loss   dfl_loss  Instances       Size\n"
          ]
        },
        {
          "metadata": {
            "tags": null
          },
          "name": "stderr",
          "output_type": "stream",
          "text": [
            "     36/100         0G      1.113     0.7036      1.027         15        320: 100%|██████████| 22/22 [00:47<00:00,  2.14s/it]\n",
            "                 Class     Images  Instances      Box(P          R      mAP50  mAP50-95): 100%|██████████| 2/2 [00:01<00:00,  1.16it/s]"
          ]
        },
        {
          "metadata": {
            "tags": null
          },
          "name": "stdout",
          "output_type": "stream",
          "text": [
            "                   all         44         44      0.884      0.886      0.923      0.523\n"
          ]
        },
        {
          "metadata": {
            "tags": null
          },
          "name": "stderr",
          "output_type": "stream",
          "text": [
            "\n"
          ]
        },
        {
          "metadata": {
            "tags": null
          },
          "name": "stdout",
          "output_type": "stream",
          "text": [
            "\n",
            "      Epoch    GPU_mem   box_loss   cls_loss   dfl_loss  Instances       Size\n"
          ]
        },
        {
          "metadata": {
            "tags": null
          },
          "name": "stderr",
          "output_type": "stream",
          "text": [
            "     37/100         0G      1.073      0.684     0.9991         22        320: 100%|██████████| 22/22 [00:47<00:00,  2.14s/it]\n",
            "                 Class     Images  Instances      Box(P          R      mAP50  mAP50-95): 100%|██████████| 2/2 [00:02<00:00,  1.16s/it]"
          ]
        },
        {
          "metadata": {
            "tags": null
          },
          "name": "stdout",
          "output_type": "stream",
          "text": [
            "                   all         44         44      0.863      0.818       0.91      0.459\n"
          ]
        },
        {
          "metadata": {
            "tags": null
          },
          "name": "stderr",
          "output_type": "stream",
          "text": [
            "\n"
          ]
        },
        {
          "metadata": {
            "tags": null
          },
          "name": "stdout",
          "output_type": "stream",
          "text": [
            "\n",
            "      Epoch    GPU_mem   box_loss   cls_loss   dfl_loss  Instances       Size\n"
          ]
        },
        {
          "metadata": {
            "tags": null
          },
          "name": "stderr",
          "output_type": "stream",
          "text": [
            "     38/100         0G       1.12     0.6896     0.9996         16        320: 100%|██████████| 22/22 [00:46<00:00,  2.10s/it]\n",
            "                 Class     Images  Instances      Box(P          R      mAP50  mAP50-95): 100%|██████████| 2/2 [00:01<00:00,  1.17it/s]"
          ]
        },
        {
          "metadata": {
            "tags": null
          },
          "name": "stdout",
          "output_type": "stream",
          "text": [
            "                   all         44         44      0.904      0.853      0.911      0.512\n"
          ]
        },
        {
          "metadata": {
            "tags": null
          },
          "name": "stderr",
          "output_type": "stream",
          "text": [
            "\n"
          ]
        },
        {
          "metadata": {
            "tags": null
          },
          "name": "stdout",
          "output_type": "stream",
          "text": [
            "\n",
            "      Epoch    GPU_mem   box_loss   cls_loss   dfl_loss  Instances       Size\n"
          ]
        },
        {
          "metadata": {
            "tags": null
          },
          "name": "stderr",
          "output_type": "stream",
          "text": [
            "     39/100         0G      1.092     0.6874     0.9969         16        320: 100%|██████████| 22/22 [00:46<00:00,  2.13s/it]\n",
            "                 Class     Images  Instances      Box(P          R      mAP50  mAP50-95): 100%|██████████| 2/2 [00:01<00:00,  1.18it/s]"
          ]
        },
        {
          "metadata": {
            "tags": null
          },
          "name": "stdout",
          "output_type": "stream",
          "text": [
            "                   all         44         44      0.867      0.886       0.91       0.49\n"
          ]
        },
        {
          "metadata": {
            "tags": null
          },
          "name": "stderr",
          "output_type": "stream",
          "text": [
            "\n"
          ]
        },
        {
          "metadata": {
            "tags": null
          },
          "name": "stdout",
          "output_type": "stream",
          "text": [
            "\n",
            "      Epoch    GPU_mem   box_loss   cls_loss   dfl_loss  Instances       Size\n"
          ]
        },
        {
          "metadata": {
            "tags": null
          },
          "name": "stderr",
          "output_type": "stream",
          "text": [
            "     40/100         0G      1.037     0.6512     0.9677         18        320: 100%|██████████| 22/22 [00:46<00:00,  2.11s/it]\n",
            "                 Class     Images  Instances      Box(P          R      mAP50  mAP50-95): 100%|██████████| 2/2 [00:02<00:00,  1.11s/it]"
          ]
        },
        {
          "metadata": {
            "tags": null
          },
          "name": "stdout",
          "output_type": "stream",
          "text": [
            "                   all         44         44      0.915      0.818      0.884      0.476\n"
          ]
        },
        {
          "metadata": {
            "tags": null
          },
          "name": "stderr",
          "output_type": "stream",
          "text": [
            "\n"
          ]
        },
        {
          "metadata": {
            "tags": null
          },
          "name": "stdout",
          "output_type": "stream",
          "text": [
            "\n",
            "      Epoch    GPU_mem   box_loss   cls_loss   dfl_loss  Instances       Size\n"
          ]
        },
        {
          "metadata": {
            "tags": null
          },
          "name": "stderr",
          "output_type": "stream",
          "text": [
            "     41/100         0G      1.017     0.6402     0.9789         14        320: 100%|██████████| 22/22 [00:46<00:00,  2.11s/it]\n",
            "                 Class     Images  Instances      Box(P          R      mAP50  mAP50-95): 100%|██████████| 2/2 [00:01<00:00,  1.14it/s]"
          ]
        },
        {
          "metadata": {
            "tags": null
          },
          "name": "stdout",
          "output_type": "stream",
          "text": [
            "                   all         44         44      0.943      0.864      0.891      0.504\n"
          ]
        },
        {
          "metadata": {
            "tags": null
          },
          "name": "stderr",
          "output_type": "stream",
          "text": [
            "\n"
          ]
        },
        {
          "metadata": {
            "tags": null
          },
          "name": "stdout",
          "output_type": "stream",
          "text": [
            "\n",
            "      Epoch    GPU_mem   box_loss   cls_loss   dfl_loss  Instances       Size\n"
          ]
        },
        {
          "metadata": {
            "tags": null
          },
          "name": "stderr",
          "output_type": "stream",
          "text": [
            "     42/100         0G      1.009     0.6308     0.9721         15        320: 100%|██████████| 22/22 [00:46<00:00,  2.12s/it]\n",
            "                 Class     Images  Instances      Box(P          R      mAP50  mAP50-95): 100%|██████████| 2/2 [00:01<00:00,  1.14it/s]"
          ]
        },
        {
          "metadata": {
            "tags": null
          },
          "name": "stdout",
          "output_type": "stream",
          "text": [
            "                   all         44         44      0.857      0.864      0.902      0.488\n"
          ]
        },
        {
          "metadata": {
            "tags": null
          },
          "name": "stderr",
          "output_type": "stream",
          "text": [
            "\n"
          ]
        },
        {
          "metadata": {
            "tags": null
          },
          "name": "stdout",
          "output_type": "stream",
          "text": [
            "\n",
            "      Epoch    GPU_mem   box_loss   cls_loss   dfl_loss  Instances       Size\n"
          ]
        },
        {
          "metadata": {
            "tags": null
          },
          "name": "stderr",
          "output_type": "stream",
          "text": [
            "     43/100         0G       1.07     0.6602     0.9963         19        320: 100%|██████████| 22/22 [00:46<00:00,  2.10s/it]\n",
            "                 Class     Images  Instances      Box(P          R      mAP50  mAP50-95): 100%|██████████| 2/2 [00:01<00:00,  1.15it/s]"
          ]
        },
        {
          "metadata": {
            "tags": null
          },
          "name": "stdout",
          "output_type": "stream",
          "text": [
            "                   all         44         44      0.917      0.909      0.913      0.505\n"
          ]
        },
        {
          "metadata": {
            "tags": null
          },
          "name": "stderr",
          "output_type": "stream",
          "text": [
            "\n"
          ]
        },
        {
          "metadata": {
            "tags": null
          },
          "name": "stdout",
          "output_type": "stream",
          "text": [
            "\n",
            "      Epoch    GPU_mem   box_loss   cls_loss   dfl_loss  Instances       Size\n"
          ]
        },
        {
          "output_type": "stream",
          "name": "stderr",
          "text": [
            "     44/100         0G      1.032     0.6304     0.9876         19        320: 100%|██████████| 22/22 [00:46<00:00,  2.11s/it]\n",
            "                 Class     Images  Instances      Box(P          R      mAP50  mAP50-95): 100%|██████████| 2/2 [00:01<00:00,  1.20it/s]"
          ]
        },
        {
          "output_type": "stream",
          "name": "stdout",
          "text": [
            "                   all         44         44      0.887      0.909      0.915      0.513\n"
          ]
        },
        {
          "output_type": "stream",
          "name": "stderr",
          "text": [
            "\n"
          ]
        },
        {
          "output_type": "stream",
          "name": "stdout",
          "text": [
            "\n",
            "      Epoch    GPU_mem   box_loss   cls_loss   dfl_loss  Instances       Size\n"
          ]
        },
        {
          "output_type": "stream",
          "name": "stderr",
          "text": [
            "     45/100         0G      1.045     0.6189     0.9802         18        320: 100%|██████████| 22/22 [00:45<00:00,  2.05s/it]\n",
            "                 Class     Images  Instances      Box(P          R      mAP50  mAP50-95): 100%|██████████| 2/2 [00:02<00:00,  1.05s/it]"
          ]
        },
        {
          "output_type": "stream",
          "name": "stdout",
          "text": [
            "                   all         44         44       0.91      0.795      0.861      0.477\n"
          ]
        },
        {
          "output_type": "stream",
          "name": "stderr",
          "text": [
            "\n"
          ]
        },
        {
          "output_type": "stream",
          "name": "stdout",
          "text": [
            "\n",
            "      Epoch    GPU_mem   box_loss   cls_loss   dfl_loss  Instances       Size\n"
          ]
        },
        {
          "output_type": "stream",
          "name": "stderr",
          "text": [
            "     46/100         0G      1.067     0.6471     0.9907         17        320: 100%|██████████| 22/22 [00:46<00:00,  2.11s/it]\n",
            "                 Class     Images  Instances      Box(P          R      mAP50  mAP50-95): 100%|██████████| 2/2 [00:01<00:00,  1.16it/s]"
          ]
        },
        {
          "output_type": "stream",
          "name": "stdout",
          "text": [
            "                   all         44         44       0.95      0.856      0.926      0.502\n"
          ]
        },
        {
          "output_type": "stream",
          "name": "stderr",
          "text": [
            "\n"
          ]
        },
        {
          "output_type": "stream",
          "name": "stdout",
          "text": [
            "\n",
            "      Epoch    GPU_mem   box_loss   cls_loss   dfl_loss  Instances       Size\n"
          ]
        },
        {
          "output_type": "stream",
          "name": "stderr",
          "text": [
            "     47/100         0G      1.006     0.6069     0.9811         19        320: 100%|██████████| 22/22 [00:47<00:00,  2.14s/it]\n",
            "                 Class     Images  Instances      Box(P          R      mAP50  mAP50-95): 100%|██████████| 2/2 [00:01<00:00,  1.12it/s]"
          ]
        },
        {
          "output_type": "stream",
          "name": "stdout",
          "text": [
            "                   all         44         44      0.853      0.925      0.922      0.517\n"
          ]
        },
        {
          "output_type": "stream",
          "name": "stderr",
          "text": [
            "\n"
          ]
        },
        {
          "output_type": "stream",
          "name": "stdout",
          "text": [
            "\n",
            "      Epoch    GPU_mem   box_loss   cls_loss   dfl_loss  Instances       Size\n"
          ]
        },
        {
          "output_type": "stream",
          "name": "stderr",
          "text": [
            "     48/100         0G      0.956     0.5867     0.9592         18        320: 100%|██████████| 22/22 [00:46<00:00,  2.11s/it]\n",
            "                 Class     Images  Instances      Box(P          R      mAP50  mAP50-95): 100%|██████████| 2/2 [00:01<00:00,  1.16it/s]"
          ]
        },
        {
          "output_type": "stream",
          "name": "stdout",
          "text": [
            "                   all         44         44      0.904      0.886      0.925      0.495\n"
          ]
        },
        {
          "output_type": "stream",
          "name": "stderr",
          "text": [
            "\n"
          ]
        },
        {
          "output_type": "stream",
          "name": "stdout",
          "text": [
            "\n",
            "      Epoch    GPU_mem   box_loss   cls_loss   dfl_loss  Instances       Size\n"
          ]
        },
        {
          "output_type": "stream",
          "name": "stderr",
          "text": [
            "     49/100         0G      1.018     0.6203     0.9808         18        320: 100%|██████████| 22/22 [00:47<00:00,  2.15s/it]\n",
            "                 Class     Images  Instances      Box(P          R      mAP50  mAP50-95): 100%|██████████| 2/2 [00:01<00:00,  1.14it/s]"
          ]
        },
        {
          "output_type": "stream",
          "name": "stdout",
          "text": [
            "                   all         44         44      0.902      0.836      0.897      0.502\n"
          ]
        },
        {
          "output_type": "stream",
          "name": "stderr",
          "text": [
            "\n"
          ]
        },
        {
          "output_type": "stream",
          "name": "stdout",
          "text": [
            "\n",
            "      Epoch    GPU_mem   box_loss   cls_loss   dfl_loss  Instances       Size\n"
          ]
        },
        {
          "output_type": "stream",
          "name": "stderr",
          "text": [
            "     50/100         0G     0.9438     0.5904     0.9675         17        320: 100%|██████████| 22/22 [00:46<00:00,  2.10s/it]\n",
            "                 Class     Images  Instances      Box(P          R      mAP50  mAP50-95): 100%|██████████| 2/2 [00:02<00:00,  1.19s/it]"
          ]
        },
        {
          "output_type": "stream",
          "name": "stdout",
          "text": [
            "                   all         44         44      0.901       0.83      0.902      0.485\n"
          ]
        },
        {
          "output_type": "stream",
          "name": "stderr",
          "text": [
            "\n"
          ]
        },
        {
          "output_type": "stream",
          "name": "stdout",
          "text": [
            "\n",
            "      Epoch    GPU_mem   box_loss   cls_loss   dfl_loss  Instances       Size\n"
          ]
        },
        {
          "output_type": "stream",
          "name": "stderr",
          "text": [
            "     51/100         0G     0.9596     0.5989     0.9601         20        320: 100%|██████████| 22/22 [00:46<00:00,  2.13s/it]\n",
            "                 Class     Images  Instances      Box(P          R      mAP50  mAP50-95): 100%|██████████| 2/2 [00:01<00:00,  1.10it/s]"
          ]
        },
        {
          "output_type": "stream",
          "name": "stdout",
          "text": [
            "                   all         44         44      0.847      0.909      0.917      0.497\n"
          ]
        },
        {
          "output_type": "stream",
          "name": "stderr",
          "text": [
            "\n"
          ]
        },
        {
          "output_type": "stream",
          "name": "stdout",
          "text": [
            "\n",
            "      Epoch    GPU_mem   box_loss   cls_loss   dfl_loss  Instances       Size\n"
          ]
        },
        {
          "output_type": "stream",
          "name": "stderr",
          "text": [
            "     52/100         0G      0.939     0.5749     0.9715         18        320: 100%|██████████| 22/22 [00:47<00:00,  2.17s/it]\n",
            "                 Class     Images  Instances      Box(P          R      mAP50  mAP50-95): 100%|██████████| 2/2 [00:01<00:00,  1.17it/s]"
          ]
        },
        {
          "output_type": "stream",
          "name": "stdout",
          "text": [
            "                   all         44         44      0.899      0.814      0.891       0.49\n"
          ]
        },
        {
          "output_type": "stream",
          "name": "stderr",
          "text": [
            "\n"
          ]
        },
        {
          "output_type": "stream",
          "name": "stdout",
          "text": [
            "\n",
            "      Epoch    GPU_mem   box_loss   cls_loss   dfl_loss  Instances       Size\n"
          ]
        },
        {
          "output_type": "stream",
          "name": "stderr",
          "text": [
            "     53/100         0G     0.9676      0.582     0.9647         21        320: 100%|██████████| 22/22 [00:45<00:00,  2.08s/it]\n",
            "                 Class     Images  Instances      Box(P          R      mAP50  mAP50-95): 100%|██████████| 2/2 [00:02<00:00,  1.11s/it]"
          ]
        },
        {
          "output_type": "stream",
          "name": "stdout",
          "text": [
            "                   all         44         44      0.911      0.818      0.893      0.501\n"
          ]
        },
        {
          "output_type": "stream",
          "name": "stderr",
          "text": [
            "\n"
          ]
        },
        {
          "output_type": "stream",
          "name": "stdout",
          "text": [
            "\n",
            "      Epoch    GPU_mem   box_loss   cls_loss   dfl_loss  Instances       Size\n"
          ]
        },
        {
          "output_type": "stream",
          "name": "stderr",
          "text": [
            "     54/100         0G     0.9549     0.5756     0.9598         11        320: 100%|██████████| 22/22 [00:45<00:00,  2.08s/it]\n",
            "                 Class     Images  Instances      Box(P          R      mAP50  mAP50-95): 100%|██████████| 2/2 [00:01<00:00,  1.19it/s]"
          ]
        },
        {
          "output_type": "stream",
          "name": "stdout",
          "text": [
            "                   all         44         44       0.92      0.841      0.913       0.51\n"
          ]
        },
        {
          "output_type": "stream",
          "name": "stderr",
          "text": [
            "\n"
          ]
        },
        {
          "output_type": "stream",
          "name": "stdout",
          "text": [
            "\n",
            "      Epoch    GPU_mem   box_loss   cls_loss   dfl_loss  Instances       Size\n"
          ]
        },
        {
          "output_type": "stream",
          "name": "stderr",
          "text": [
            "     55/100         0G     0.9516      0.571     0.9558         16        320: 100%|██████████| 22/22 [00:45<00:00,  2.07s/it]\n",
            "                 Class     Images  Instances      Box(P          R      mAP50  mAP50-95): 100%|██████████| 2/2 [00:02<00:00,  1.10s/it]"
          ]
        },
        {
          "output_type": "stream",
          "name": "stdout",
          "text": [
            "                   all         44         44        0.9       0.82      0.891      0.522\n"
          ]
        },
        {
          "output_type": "stream",
          "name": "stderr",
          "text": [
            "\n"
          ]
        },
        {
          "output_type": "stream",
          "name": "stdout",
          "text": [
            "\n",
            "      Epoch    GPU_mem   box_loss   cls_loss   dfl_loss  Instances       Size\n"
          ]
        },
        {
          "output_type": "stream",
          "name": "stderr",
          "text": [
            "     56/100         0G      0.963     0.5871     0.9513         21        320: 100%|██████████| 22/22 [00:45<00:00,  2.08s/it]\n",
            "                 Class     Images  Instances      Box(P          R      mAP50  mAP50-95): 100%|██████████| 2/2 [00:01<00:00,  1.18it/s]"
          ]
        },
        {
          "output_type": "stream",
          "name": "stdout",
          "text": [
            "                   all         44         44      0.927      0.862      0.903      0.517\n"
          ]
        },
        {
          "output_type": "stream",
          "name": "stderr",
          "text": [
            "\n"
          ]
        },
        {
          "output_type": "stream",
          "name": "stdout",
          "text": [
            "\n",
            "      Epoch    GPU_mem   box_loss   cls_loss   dfl_loss  Instances       Size\n"
          ]
        },
        {
          "output_type": "stream",
          "name": "stderr",
          "text": [
            "     57/100         0G     0.9311     0.5647     0.9555         19        320: 100%|██████████| 22/22 [00:47<00:00,  2.14s/it]\n",
            "                 Class     Images  Instances      Box(P          R      mAP50  mAP50-95): 100%|██████████| 2/2 [00:01<00:00,  1.16it/s]"
          ]
        },
        {
          "output_type": "stream",
          "name": "stdout",
          "text": [
            "                   all         44         44      0.928      0.881       0.91      0.515\n"
          ]
        },
        {
          "output_type": "stream",
          "name": "stderr",
          "text": [
            "\n"
          ]
        },
        {
          "output_type": "stream",
          "name": "stdout",
          "text": [
            "\n",
            "      Epoch    GPU_mem   box_loss   cls_loss   dfl_loss  Instances       Size\n"
          ]
        },
        {
          "output_type": "stream",
          "name": "stderr",
          "text": [
            "     58/100         0G     0.8898     0.5634      0.947         23        320: 100%|██████████| 22/22 [00:45<00:00,  2.07s/it]\n",
            "                 Class     Images  Instances      Box(P          R      mAP50  mAP50-95): 100%|██████████| 2/2 [00:02<00:00,  1.07s/it]"
          ]
        },
        {
          "output_type": "stream",
          "name": "stdout",
          "text": [
            "                   all         44         44      0.869      0.818      0.879      0.467\n"
          ]
        },
        {
          "output_type": "stream",
          "name": "stderr",
          "text": [
            "\n"
          ]
        },
        {
          "output_type": "stream",
          "name": "stdout",
          "text": [
            "\n",
            "      Epoch    GPU_mem   box_loss   cls_loss   dfl_loss  Instances       Size\n"
          ]
        },
        {
          "output_type": "stream",
          "name": "stderr",
          "text": [
            "     59/100         0G     0.9248     0.5569     0.9564         16        320: 100%|██████████| 22/22 [00:47<00:00,  2.17s/it]\n",
            "                 Class     Images  Instances      Box(P          R      mAP50  mAP50-95): 100%|██████████| 2/2 [00:01<00:00,  1.17it/s]"
          ]
        },
        {
          "output_type": "stream",
          "name": "stdout",
          "text": [
            "                   all         44         44      0.841      0.886      0.907      0.474\n"
          ]
        },
        {
          "output_type": "stream",
          "name": "stderr",
          "text": [
            "\n"
          ]
        },
        {
          "output_type": "stream",
          "name": "stdout",
          "text": [
            "\n",
            "      Epoch    GPU_mem   box_loss   cls_loss   dfl_loss  Instances       Size\n"
          ]
        },
        {
          "output_type": "stream",
          "name": "stderr",
          "text": [
            "     60/100         0G     0.8908     0.5252     0.9329         16        320: 100%|██████████| 22/22 [00:46<00:00,  2.10s/it]\n",
            "                 Class     Images  Instances      Box(P          R      mAP50  mAP50-95): 100%|██████████| 2/2 [00:01<00:00,  1.21it/s]"
          ]
        },
        {
          "output_type": "stream",
          "name": "stdout",
          "text": [
            "                   all         44         44      0.911      0.909       0.94      0.498\n"
          ]
        },
        {
          "output_type": "stream",
          "name": "stderr",
          "text": [
            "\n"
          ]
        },
        {
          "output_type": "stream",
          "name": "stdout",
          "text": [
            "\n",
            "      Epoch    GPU_mem   box_loss   cls_loss   dfl_loss  Instances       Size\n"
          ]
        },
        {
          "output_type": "stream",
          "name": "stderr",
          "text": [
            "     61/100         0G     0.9136     0.5392     0.9398         14        320: 100%|██████████| 22/22 [00:44<00:00,  2.04s/it]\n",
            "                 Class     Images  Instances      Box(P          R      mAP50  mAP50-95): 100%|██████████| 2/2 [00:01<00:00,  1.20it/s]"
          ]
        },
        {
          "output_type": "stream",
          "name": "stdout",
          "text": [
            "                   all         44         44      0.941      0.886      0.937      0.529\n"
          ]
        },
        {
          "output_type": "stream",
          "name": "stderr",
          "text": [
            "\n"
          ]
        },
        {
          "output_type": "stream",
          "name": "stdout",
          "text": [
            "\n",
            "      Epoch    GPU_mem   box_loss   cls_loss   dfl_loss  Instances       Size\n"
          ]
        },
        {
          "output_type": "stream",
          "name": "stderr",
          "text": [
            "     62/100         0G     0.9164     0.5626     0.9483         12        320: 100%|██████████| 22/22 [00:45<00:00,  2.08s/it]\n",
            "                 Class     Images  Instances      Box(P          R      mAP50  mAP50-95): 100%|██████████| 2/2 [00:01<00:00,  1.18it/s]"
          ]
        },
        {
          "output_type": "stream",
          "name": "stdout",
          "text": [
            "                   all         44         44      0.925      0.864      0.928      0.515\n"
          ]
        },
        {
          "output_type": "stream",
          "name": "stderr",
          "text": [
            "\n"
          ]
        },
        {
          "output_type": "stream",
          "name": "stdout",
          "text": [
            "\n",
            "      Epoch    GPU_mem   box_loss   cls_loss   dfl_loss  Instances       Size\n"
          ]
        },
        {
          "output_type": "stream",
          "name": "stderr",
          "text": [
            "     63/100         0G     0.8773     0.5277     0.9386         15        320: 100%|██████████| 22/22 [00:44<00:00,  2.04s/it]\n",
            "                 Class     Images  Instances      Box(P          R      mAP50  mAP50-95): 100%|██████████| 2/2 [00:02<00:00,  1.02s/it]"
          ]
        },
        {
          "output_type": "stream",
          "name": "stdout",
          "text": [
            "                   all         44         44       0.88      0.836      0.896      0.505\n"
          ]
        },
        {
          "output_type": "stream",
          "name": "stderr",
          "text": [
            "\n"
          ]
        },
        {
          "output_type": "stream",
          "name": "stdout",
          "text": [
            "\n",
            "      Epoch    GPU_mem   box_loss   cls_loss   dfl_loss  Instances       Size\n"
          ]
        },
        {
          "output_type": "stream",
          "name": "stderr",
          "text": [
            "     64/100         0G     0.9088     0.5447     0.9498         21        320: 100%|██████████| 22/22 [00:45<00:00,  2.08s/it]\n",
            "                 Class     Images  Instances      Box(P          R      mAP50  mAP50-95): 100%|██████████| 2/2 [00:01<00:00,  1.16it/s]"
          ]
        },
        {
          "output_type": "stream",
          "name": "stdout",
          "text": [
            "                   all         44         44      0.869      0.864      0.882      0.482\n"
          ]
        },
        {
          "output_type": "stream",
          "name": "stderr",
          "text": [
            "\n"
          ]
        },
        {
          "output_type": "stream",
          "name": "stdout",
          "text": [
            "\n",
            "      Epoch    GPU_mem   box_loss   cls_loss   dfl_loss  Instances       Size\n"
          ]
        },
        {
          "output_type": "stream",
          "name": "stderr",
          "text": [
            "     65/100         0G     0.8862     0.5335     0.9375         16        320: 100%|██████████| 22/22 [00:45<00:00,  2.06s/it]\n",
            "                 Class     Images  Instances      Box(P          R      mAP50  mAP50-95): 100%|██████████| 2/2 [00:02<00:00,  1.14s/it]"
          ]
        },
        {
          "output_type": "stream",
          "name": "stdout",
          "text": [
            "                   all         44         44      0.883      0.856      0.897      0.499\n"
          ]
        },
        {
          "output_type": "stream",
          "name": "stderr",
          "text": [
            "\n"
          ]
        },
        {
          "output_type": "stream",
          "name": "stdout",
          "text": [
            "\n",
            "      Epoch    GPU_mem   box_loss   cls_loss   dfl_loss  Instances       Size\n"
          ]
        },
        {
          "output_type": "stream",
          "name": "stderr",
          "text": [
            "     66/100         0G     0.8662     0.5329     0.9415         20        320: 100%|██████████| 22/22 [00:45<00:00,  2.08s/it]\n",
            "                 Class     Images  Instances      Box(P          R      mAP50  mAP50-95): 100%|██████████| 2/2 [00:01<00:00,  1.15it/s]"
          ]
        },
        {
          "output_type": "stream",
          "name": "stdout",
          "text": [
            "                   all         44         44      0.927       0.86      0.917      0.496\n"
          ]
        },
        {
          "output_type": "stream",
          "name": "stderr",
          "text": [
            "\n"
          ]
        },
        {
          "output_type": "stream",
          "name": "stdout",
          "text": [
            "\n",
            "      Epoch    GPU_mem   box_loss   cls_loss   dfl_loss  Instances       Size\n"
          ]
        },
        {
          "output_type": "stream",
          "name": "stderr",
          "text": [
            "     67/100         0G     0.8422     0.5126     0.9339         17        320: 100%|██████████| 22/22 [00:47<00:00,  2.15s/it]\n",
            "                 Class     Images  Instances      Box(P          R      mAP50  mAP50-95): 100%|██████████| 2/2 [00:01<00:00,  1.15it/s]"
          ]
        },
        {
          "output_type": "stream",
          "name": "stdout",
          "text": [
            "                   all         44         44      0.824      0.851      0.871      0.462\n"
          ]
        },
        {
          "output_type": "stream",
          "name": "stderr",
          "text": [
            "\n"
          ]
        },
        {
          "output_type": "stream",
          "name": "stdout",
          "text": [
            "\n",
            "      Epoch    GPU_mem   box_loss   cls_loss   dfl_loss  Instances       Size\n"
          ]
        },
        {
          "output_type": "stream",
          "name": "stderr",
          "text": [
            "     68/100         0G     0.9066     0.5476     0.9431         17        320: 100%|██████████| 22/22 [00:45<00:00,  2.07s/it]\n",
            "                 Class     Images  Instances      Box(P          R      mAP50  mAP50-95): 100%|██████████| 2/2 [00:01<00:00,  1.15it/s]"
          ]
        },
        {
          "output_type": "stream",
          "name": "stdout",
          "text": [
            "                   all         44         44      0.847      0.886      0.899      0.486\n"
          ]
        },
        {
          "output_type": "stream",
          "name": "stderr",
          "text": [
            "\n"
          ]
        },
        {
          "output_type": "stream",
          "name": "stdout",
          "text": [
            "\n",
            "      Epoch    GPU_mem   box_loss   cls_loss   dfl_loss  Instances       Size\n"
          ]
        },
        {
          "output_type": "stream",
          "name": "stderr",
          "text": [
            "     69/100         0G     0.8957     0.5283     0.9295         11        320: 100%|██████████| 22/22 [00:46<00:00,  2.10s/it]\n",
            "                 Class     Images  Instances      Box(P          R      mAP50  mAP50-95): 100%|██████████| 2/2 [00:01<00:00,  1.16it/s]"
          ]
        },
        {
          "output_type": "stream",
          "name": "stdout",
          "text": [
            "                   all         44         44      0.814      0.909      0.902      0.468\n"
          ]
        },
        {
          "output_type": "stream",
          "name": "stderr",
          "text": [
            "\n"
          ]
        },
        {
          "output_type": "stream",
          "name": "stdout",
          "text": [
            "\n",
            "      Epoch    GPU_mem   box_loss   cls_loss   dfl_loss  Instances       Size\n"
          ]
        },
        {
          "output_type": "stream",
          "name": "stderr",
          "text": [
            "     70/100         0G     0.8452     0.5109     0.9278         15        320: 100%|██████████| 22/22 [00:45<00:00,  2.06s/it]\n",
            "                 Class     Images  Instances      Box(P          R      mAP50  mAP50-95): 100%|██████████| 2/2 [00:02<00:00,  1.22s/it]"
          ]
        },
        {
          "output_type": "stream",
          "name": "stdout",
          "text": [
            "                   all         44         44      0.932      0.841      0.929      0.488\n"
          ]
        },
        {
          "output_type": "stream",
          "name": "stderr",
          "text": [
            "\n"
          ]
        },
        {
          "output_type": "stream",
          "name": "stdout",
          "text": [
            "\n",
            "      Epoch    GPU_mem   box_loss   cls_loss   dfl_loss  Instances       Size\n"
          ]
        },
        {
          "output_type": "stream",
          "name": "stderr",
          "text": [
            "     71/100         0G     0.8791     0.5221     0.9398         19        320: 100%|██████████| 22/22 [00:45<00:00,  2.08s/it]\n",
            "                 Class     Images  Instances      Box(P          R      mAP50  mAP50-95): 100%|██████████| 2/2 [00:01<00:00,  1.19it/s]"
          ]
        },
        {
          "output_type": "stream",
          "name": "stdout",
          "text": [
            "                   all         44         44      0.912      0.841      0.898      0.488\n"
          ]
        },
        {
          "output_type": "stream",
          "name": "stderr",
          "text": [
            "\n"
          ]
        },
        {
          "output_type": "stream",
          "name": "stdout",
          "text": [
            "\n",
            "      Epoch    GPU_mem   box_loss   cls_loss   dfl_loss  Instances       Size\n"
          ]
        },
        {
          "output_type": "stream",
          "name": "stderr",
          "text": [
            "     72/100         0G     0.8527     0.5094     0.9381         12        320: 100%|██████████| 22/22 [00:46<00:00,  2.11s/it]\n",
            "                 Class     Images  Instances      Box(P          R      mAP50  mAP50-95): 100%|██████████| 2/2 [00:02<00:00,  1.02s/it]"
          ]
        },
        {
          "output_type": "stream",
          "name": "stdout",
          "text": [
            "                   all         44         44      0.936      0.841      0.899      0.512\n"
          ]
        },
        {
          "output_type": "stream",
          "name": "stderr",
          "text": [
            "\n"
          ]
        },
        {
          "output_type": "stream",
          "name": "stdout",
          "text": [
            "\n",
            "      Epoch    GPU_mem   box_loss   cls_loss   dfl_loss  Instances       Size\n"
          ]
        },
        {
          "output_type": "stream",
          "name": "stderr",
          "text": [
            "     73/100         0G     0.8494     0.4936     0.9227         17        320: 100%|██████████| 22/22 [00:45<00:00,  2.06s/it]\n",
            "                 Class     Images  Instances      Box(P          R      mAP50  mAP50-95): 100%|██████████| 2/2 [00:01<00:00,  1.19it/s]"
          ]
        },
        {
          "output_type": "stream",
          "name": "stdout",
          "text": [
            "                   all         44         44      0.899      0.841      0.896      0.513\n"
          ]
        },
        {
          "output_type": "stream",
          "name": "stderr",
          "text": [
            "\n"
          ]
        },
        {
          "output_type": "stream",
          "name": "stdout",
          "text": [
            "\n",
            "      Epoch    GPU_mem   box_loss   cls_loss   dfl_loss  Instances       Size\n"
          ]
        },
        {
          "output_type": "stream",
          "name": "stderr",
          "text": [
            "     74/100         0G     0.8313     0.5178     0.9238         23        320: 100%|██████████| 22/22 [00:46<00:00,  2.11s/it]\n",
            "                 Class     Images  Instances      Box(P          R      mAP50  mAP50-95): 100%|██████████| 2/2 [00:01<00:00,  1.16it/s]"
          ]
        },
        {
          "output_type": "stream",
          "name": "stdout",
          "text": [
            "                   all         44         44      0.887      0.818      0.896      0.493\n"
          ]
        },
        {
          "output_type": "stream",
          "name": "stderr",
          "text": [
            "\n"
          ]
        },
        {
          "output_type": "stream",
          "name": "stdout",
          "text": [
            "\n",
            "      Epoch    GPU_mem   box_loss   cls_loss   dfl_loss  Instances       Size\n"
          ]
        },
        {
          "output_type": "stream",
          "name": "stderr",
          "text": [
            "     75/100         0G     0.8427     0.5079     0.9235         13        320: 100%|██████████| 22/22 [00:45<00:00,  2.09s/it]\n",
            "                 Class     Images  Instances      Box(P          R      mAP50  mAP50-95): 100%|██████████| 2/2 [00:02<00:00,  1.05s/it]"
          ]
        },
        {
          "output_type": "stream",
          "name": "stdout",
          "text": [
            "                   all         44         44      0.887      0.841      0.883      0.486\n"
          ]
        },
        {
          "output_type": "stream",
          "name": "stderr",
          "text": [
            "\n"
          ]
        },
        {
          "output_type": "stream",
          "name": "stdout",
          "text": [
            "\n",
            "      Epoch    GPU_mem   box_loss   cls_loss   dfl_loss  Instances       Size\n"
          ]
        },
        {
          "output_type": "stream",
          "name": "stderr",
          "text": [
            "     76/100         0G     0.8276     0.4955     0.9229         17        320: 100%|██████████| 22/22 [00:45<00:00,  2.07s/it]\n",
            "                 Class     Images  Instances      Box(P          R      mAP50  mAP50-95): 100%|██████████| 2/2 [00:01<00:00,  1.14it/s]"
          ]
        },
        {
          "output_type": "stream",
          "name": "stdout",
          "text": [
            "                   all         44         44      0.912      0.841      0.898      0.498\n"
          ]
        },
        {
          "output_type": "stream",
          "name": "stderr",
          "text": [
            "\n"
          ]
        },
        {
          "output_type": "stream",
          "name": "stdout",
          "text": [
            "\n",
            "      Epoch    GPU_mem   box_loss   cls_loss   dfl_loss  Instances       Size\n"
          ]
        },
        {
          "output_type": "stream",
          "name": "stderr",
          "text": [
            "     77/100         0G     0.8449        0.5     0.9402         21        320: 100%|██████████| 22/22 [00:44<00:00,  2.04s/it]\n",
            "                 Class     Images  Instances      Box(P          R      mAP50  mAP50-95): 100%|██████████| 2/2 [00:02<00:00,  1.22s/it]"
          ]
        },
        {
          "output_type": "stream",
          "name": "stdout",
          "text": [
            "                   all         44         44      0.974      0.864      0.931      0.534\n"
          ]
        },
        {
          "output_type": "stream",
          "name": "stderr",
          "text": [
            "\n"
          ]
        },
        {
          "output_type": "stream",
          "name": "stdout",
          "text": [
            "\n",
            "      Epoch    GPU_mem   box_loss   cls_loss   dfl_loss  Instances       Size\n"
          ]
        },
        {
          "output_type": "stream",
          "name": "stderr",
          "text": [
            "     78/100         0G     0.8241     0.4912     0.9279         15        320: 100%|██████████| 22/22 [00:44<00:00,  2.03s/it]\n",
            "                 Class     Images  Instances      Box(P          R      mAP50  mAP50-95): 100%|██████████| 2/2 [00:01<00:00,  1.19it/s]"
          ]
        },
        {
          "output_type": "stream",
          "name": "stdout",
          "text": [
            "                   all         44         44      0.939      0.841       0.92      0.522\n"
          ]
        },
        {
          "output_type": "stream",
          "name": "stderr",
          "text": [
            "\n"
          ]
        },
        {
          "output_type": "stream",
          "name": "stdout",
          "text": [
            "\n",
            "      Epoch    GPU_mem   box_loss   cls_loss   dfl_loss  Instances       Size\n"
          ]
        },
        {
          "output_type": "stream",
          "name": "stderr",
          "text": [
            "     79/100         0G     0.8704      0.495     0.9319         20        320: 100%|██████████| 22/22 [00:47<00:00,  2.15s/it]\n",
            "                 Class     Images  Instances      Box(P          R      mAP50  mAP50-95): 100%|██████████| 2/2 [00:02<00:00,  1.15s/it]"
          ]
        },
        {
          "output_type": "stream",
          "name": "stdout",
          "text": [
            "                   all         44         44       0.95      0.856      0.929      0.531\n"
          ]
        },
        {
          "output_type": "stream",
          "name": "stderr",
          "text": [
            "\n"
          ]
        },
        {
          "output_type": "stream",
          "name": "stdout",
          "text": [
            "\n",
            "      Epoch    GPU_mem   box_loss   cls_loss   dfl_loss  Instances       Size\n"
          ]
        },
        {
          "output_type": "stream",
          "name": "stderr",
          "text": [
            "     80/100         0G     0.8217     0.4901       0.94         14        320: 100%|██████████| 22/22 [00:48<00:00,  2.20s/it]\n",
            "                 Class     Images  Instances      Box(P          R      mAP50  mAP50-95): 100%|██████████| 2/2 [00:01<00:00,  1.19it/s]"
          ]
        },
        {
          "output_type": "stream",
          "name": "stdout",
          "text": [
            "                   all         44         44      0.939      0.841      0.897      0.514\n"
          ]
        },
        {
          "output_type": "stream",
          "name": "stderr",
          "text": [
            "\n"
          ]
        },
        {
          "output_type": "stream",
          "name": "stdout",
          "text": [
            "\n",
            "      Epoch    GPU_mem   box_loss   cls_loss   dfl_loss  Instances       Size\n"
          ]
        },
        {
          "output_type": "stream",
          "name": "stderr",
          "text": [
            "     81/100         0G     0.8017     0.4832     0.9158         18        320: 100%|██████████| 22/22 [00:46<00:00,  2.11s/it]\n",
            "                 Class     Images  Instances      Box(P          R      mAP50  mAP50-95): 100%|██████████| 2/2 [00:01<00:00,  1.15it/s]"
          ]
        },
        {
          "output_type": "stream",
          "name": "stdout",
          "text": [
            "                   all         44         44      0.919      0.818      0.892      0.503\n"
          ]
        },
        {
          "output_type": "stream",
          "name": "stderr",
          "text": [
            "\n"
          ]
        },
        {
          "output_type": "stream",
          "name": "stdout",
          "text": [
            "\n",
            "      Epoch    GPU_mem   box_loss   cls_loss   dfl_loss  Instances       Size\n"
          ]
        },
        {
          "output_type": "stream",
          "name": "stderr",
          "text": [
            "     82/100         0G     0.8138     0.4869     0.9341         16        320: 100%|██████████| 22/22 [00:45<00:00,  2.07s/it]\n",
            "                 Class     Images  Instances      Box(P          R      mAP50  mAP50-95): 100%|██████████| 2/2 [00:02<00:00,  1.18s/it]"
          ]
        },
        {
          "output_type": "stream",
          "name": "stdout",
          "text": [
            "                   all         44         44      0.924      0.841      0.896      0.493\n"
          ]
        },
        {
          "output_type": "stream",
          "name": "stderr",
          "text": [
            "\n"
          ]
        },
        {
          "output_type": "stream",
          "name": "stdout",
          "text": [
            "\n",
            "      Epoch    GPU_mem   box_loss   cls_loss   dfl_loss  Instances       Size\n"
          ]
        },
        {
          "output_type": "stream",
          "name": "stderr",
          "text": [
            "     83/100         0G     0.7786     0.4686     0.9174         12        320: 100%|██████████| 22/22 [00:46<00:00,  2.12s/it]\n",
            "                 Class     Images  Instances      Box(P          R      mAP50  mAP50-95): 100%|██████████| 2/2 [00:01<00:00,  1.12it/s]"
          ]
        },
        {
          "output_type": "stream",
          "name": "stdout",
          "text": [
            "                   all         44         44      0.919      0.841        0.9      0.494\n"
          ]
        },
        {
          "output_type": "stream",
          "name": "stderr",
          "text": [
            "\n"
          ]
        },
        {
          "output_type": "stream",
          "name": "stdout",
          "text": [
            "\n",
            "      Epoch    GPU_mem   box_loss   cls_loss   dfl_loss  Instances       Size\n"
          ]
        },
        {
          "output_type": "stream",
          "name": "stderr",
          "text": [
            "     84/100         0G     0.7794     0.4704     0.9114         21        320: 100%|██████████| 22/22 [00:50<00:00,  2.29s/it]\n",
            "                 Class     Images  Instances      Box(P          R      mAP50  mAP50-95): 100%|██████████| 2/2 [00:01<00:00,  1.11it/s]"
          ]
        },
        {
          "output_type": "stream",
          "name": "stdout",
          "text": [
            "                   all         44         44      0.933      0.841      0.901       0.51\n"
          ]
        },
        {
          "output_type": "stream",
          "name": "stderr",
          "text": [
            "\n"
          ]
        },
        {
          "output_type": "stream",
          "name": "stdout",
          "text": [
            "\n",
            "      Epoch    GPU_mem   box_loss   cls_loss   dfl_loss  Instances       Size\n"
          ]
        },
        {
          "output_type": "stream",
          "name": "stderr",
          "text": [
            "     85/100         0G     0.7578     0.4646     0.9157         21        320: 100%|██████████| 22/22 [00:48<00:00,  2.21s/it]\n",
            "                 Class     Images  Instances      Box(P          R      mAP50  mAP50-95): 100%|██████████| 2/2 [00:02<00:00,  1.25s/it]"
          ]
        },
        {
          "output_type": "stream",
          "name": "stdout",
          "text": [
            "                   all         44         44      0.948      0.841      0.903      0.512\n"
          ]
        },
        {
          "output_type": "stream",
          "name": "stderr",
          "text": [
            "\n"
          ]
        },
        {
          "output_type": "stream",
          "name": "stdout",
          "text": [
            "\n",
            "      Epoch    GPU_mem   box_loss   cls_loss   dfl_loss  Instances       Size\n"
          ]
        },
        {
          "output_type": "stream",
          "name": "stderr",
          "text": [
            "     86/100         0G     0.7476     0.4497     0.9007         20        320: 100%|██████████| 22/22 [00:47<00:00,  2.18s/it]\n",
            "                 Class     Images  Instances      Box(P          R      mAP50  mAP50-95): 100%|██████████| 2/2 [00:01<00:00,  1.13it/s]"
          ]
        },
        {
          "output_type": "stream",
          "name": "stdout",
          "text": [
            "                   all         44         44      0.949      0.839      0.902      0.529\n"
          ]
        },
        {
          "output_type": "stream",
          "name": "stderr",
          "text": [
            "\n"
          ]
        },
        {
          "output_type": "stream",
          "name": "stdout",
          "text": [
            "\n",
            "      Epoch    GPU_mem   box_loss   cls_loss   dfl_loss  Instances       Size\n"
          ]
        },
        {
          "output_type": "stream",
          "name": "stderr",
          "text": [
            "     87/100         0G     0.7963     0.4587     0.9051         15        320: 100%|██████████| 22/22 [00:48<00:00,  2.20s/it]\n",
            "                 Class     Images  Instances      Box(P          R      mAP50  mAP50-95): 100%|██████████| 2/2 [00:01<00:00,  1.09it/s]"
          ]
        },
        {
          "output_type": "stream",
          "name": "stdout",
          "text": [
            "                   all         44         44      0.901      0.841      0.901      0.522\n"
          ]
        },
        {
          "output_type": "stream",
          "name": "stderr",
          "text": [
            "\n"
          ]
        },
        {
          "output_type": "stream",
          "name": "stdout",
          "text": [
            "\n",
            "      Epoch    GPU_mem   box_loss   cls_loss   dfl_loss  Instances       Size\n"
          ]
        },
        {
          "output_type": "stream",
          "name": "stderr",
          "text": [
            "     88/100         0G     0.7365     0.4449     0.9003         14        320: 100%|██████████| 22/22 [00:48<00:00,  2.21s/it]\n",
            "                 Class     Images  Instances      Box(P          R      mAP50  mAP50-95): 100%|██████████| 2/2 [00:02<00:00,  1.23s/it]"
          ]
        },
        {
          "output_type": "stream",
          "name": "stdout",
          "text": [
            "                   all         44         44      0.921      0.841      0.902      0.522\n"
          ]
        },
        {
          "output_type": "stream",
          "name": "stderr",
          "text": [
            "\n"
          ]
        },
        {
          "output_type": "stream",
          "name": "stdout",
          "text": [
            "\n",
            "      Epoch    GPU_mem   box_loss   cls_loss   dfl_loss  Instances       Size\n"
          ]
        },
        {
          "output_type": "stream",
          "name": "stderr",
          "text": [
            "     89/100         0G     0.7635     0.4584     0.9092         10        320: 100%|██████████| 22/22 [00:48<00:00,  2.20s/it]\n",
            "                 Class     Images  Instances      Box(P          R      mAP50  mAP50-95): 100%|██████████| 2/2 [00:01<00:00,  1.09it/s]"
          ]
        },
        {
          "output_type": "stream",
          "name": "stdout",
          "text": [
            "                   all         44         44      0.939      0.864      0.931      0.538\n"
          ]
        },
        {
          "output_type": "stream",
          "name": "stderr",
          "text": [
            "\n"
          ]
        },
        {
          "output_type": "stream",
          "name": "stdout",
          "text": [
            "\n",
            "      Epoch    GPU_mem   box_loss   cls_loss   dfl_loss  Instances       Size\n"
          ]
        },
        {
          "output_type": "stream",
          "name": "stderr",
          "text": [
            "     90/100         0G     0.7736     0.4435     0.9105         19        320: 100%|██████████| 22/22 [00:48<00:00,  2.20s/it]\n",
            "                 Class     Images  Instances      Box(P          R      mAP50  mAP50-95): 100%|██████████| 2/2 [00:01<00:00,  1.09it/s]"
          ]
        },
        {
          "output_type": "stream",
          "name": "stdout",
          "text": [
            "                   all         44         44      0.944      0.841      0.904       0.52\n"
          ]
        },
        {
          "output_type": "stream",
          "name": "stderr",
          "text": [
            "\n"
          ]
        },
        {
          "output_type": "stream",
          "name": "stdout",
          "text": [
            "Closing dataloader mosaic\n",
            "\u001b[34m\u001b[1malbumentations: \u001b[0mBlur(p=0.01, blur_limit=(3, 7)), MedianBlur(p=0.01, blur_limit=(3, 7)), ToGray(p=0.01, num_output_channels=3, method='weighted_average'), CLAHE(p=0.01, clip_limit=(1.0, 4.0), tile_grid_size=(8, 8))\n",
            "\n",
            "      Epoch    GPU_mem   box_loss   cls_loss   dfl_loss  Instances       Size\n"
          ]
        },
        {
          "output_type": "stream",
          "name": "stderr",
          "text": [
            "     91/100         0G      1.011     0.5378      1.016          9        320: 100%|██████████| 22/22 [00:48<00:00,  2.19s/it]\n",
            "                 Class     Images  Instances      Box(P          R      mAP50  mAP50-95): 100%|██████████| 2/2 [00:01<00:00,  1.09it/s]"
          ]
        },
        {
          "output_type": "stream",
          "name": "stdout",
          "text": [
            "                   all         44         44      0.901       0.83      0.899      0.517\n"
          ]
        },
        {
          "output_type": "stream",
          "name": "stderr",
          "text": [
            "\n"
          ]
        },
        {
          "output_type": "stream",
          "name": "stdout",
          "text": [
            "\n",
            "      Epoch    GPU_mem   box_loss   cls_loss   dfl_loss  Instances       Size\n"
          ]
        },
        {
          "output_type": "stream",
          "name": "stderr",
          "text": [
            "     92/100         0G     0.9946     0.5271     0.9984          9        320: 100%|██████████| 22/22 [00:47<00:00,  2.14s/it]\n",
            "                 Class     Images  Instances      Box(P          R      mAP50  mAP50-95): 100%|██████████| 2/2 [00:02<00:00,  1.03s/it]"
          ]
        },
        {
          "output_type": "stream",
          "name": "stdout",
          "text": [
            "                   all         44         44      0.923      0.841        0.9      0.533\n"
          ]
        },
        {
          "output_type": "stream",
          "name": "stderr",
          "text": [
            "\n"
          ]
        },
        {
          "output_type": "stream",
          "name": "stdout",
          "text": [
            "\n",
            "      Epoch    GPU_mem   box_loss   cls_loss   dfl_loss  Instances       Size\n"
          ]
        },
        {
          "output_type": "stream",
          "name": "stderr",
          "text": [
            "     93/100         0G     0.9789      0.508       0.98          9        320: 100%|██████████| 22/22 [00:47<00:00,  2.18s/it]\n",
            "                 Class     Images  Instances      Box(P          R      mAP50  mAP50-95): 100%|██████████| 2/2 [00:01<00:00,  1.11it/s]"
          ]
        },
        {
          "output_type": "stream",
          "name": "stdout",
          "text": [
            "                   all         44         44      0.947      0.841      0.894      0.536\n"
          ]
        },
        {
          "output_type": "stream",
          "name": "stderr",
          "text": [
            "\n"
          ]
        },
        {
          "output_type": "stream",
          "name": "stdout",
          "text": [
            "\n",
            "      Epoch    GPU_mem   box_loss   cls_loss   dfl_loss  Instances       Size\n"
          ]
        },
        {
          "output_type": "stream",
          "name": "stderr",
          "text": [
            "     94/100         0G     0.9476     0.5038     0.9893          9        320: 100%|██████████| 22/22 [00:48<00:00,  2.20s/it]\n",
            "                 Class     Images  Instances      Box(P          R      mAP50  mAP50-95): 100%|██████████| 2/2 [00:01<00:00,  1.13it/s]"
          ]
        },
        {
          "output_type": "stream",
          "name": "stdout",
          "text": [
            "                   all         44         44      0.922      0.795      0.899      0.531\n"
          ]
        },
        {
          "output_type": "stream",
          "name": "stderr",
          "text": [
            "\n"
          ]
        },
        {
          "output_type": "stream",
          "name": "stdout",
          "text": [
            "\n",
            "      Epoch    GPU_mem   box_loss   cls_loss   dfl_loss  Instances       Size\n"
          ]
        },
        {
          "output_type": "stream",
          "name": "stderr",
          "text": [
            "     95/100         0G     0.9506     0.4986      0.985          9        320: 100%|██████████| 22/22 [00:46<00:00,  2.11s/it]\n",
            "                 Class     Images  Instances      Box(P          R      mAP50  mAP50-95): 100%|██████████| 2/2 [00:01<00:00,  1.15it/s]"
          ]
        },
        {
          "output_type": "stream",
          "name": "stdout",
          "text": [
            "                   all         44         44      0.923      0.812      0.899       0.53\n"
          ]
        },
        {
          "output_type": "stream",
          "name": "stderr",
          "text": [
            "\n"
          ]
        },
        {
          "output_type": "stream",
          "name": "stdout",
          "text": [
            "\n",
            "      Epoch    GPU_mem   box_loss   cls_loss   dfl_loss  Instances       Size\n"
          ]
        },
        {
          "output_type": "stream",
          "name": "stderr",
          "text": [
            "     96/100         0G     0.9349     0.4737     0.9806          9        320: 100%|██████████| 22/22 [00:47<00:00,  2.18s/it]\n",
            "                 Class     Images  Instances      Box(P          R      mAP50  mAP50-95): 100%|██████████| 2/2 [00:01<00:00,  1.14it/s]"
          ]
        },
        {
          "output_type": "stream",
          "name": "stdout",
          "text": [
            "                   all         44         44      0.925      0.838      0.901      0.527\n"
          ]
        },
        {
          "output_type": "stream",
          "name": "stderr",
          "text": [
            "\n"
          ]
        },
        {
          "output_type": "stream",
          "name": "stdout",
          "text": [
            "\n",
            "      Epoch    GPU_mem   box_loss   cls_loss   dfl_loss  Instances       Size\n"
          ]
        },
        {
          "output_type": "stream",
          "name": "stderr",
          "text": [
            "     97/100         0G     0.9421     0.4843     0.9606          9        320: 100%|██████████| 22/22 [00:47<00:00,  2.16s/it]\n",
            "                 Class     Images  Instances      Box(P          R      mAP50  mAP50-95): 100%|██████████| 2/2 [00:01<00:00,  1.01it/s]"
          ]
        },
        {
          "output_type": "stream",
          "name": "stdout",
          "text": [
            "                   all         44         44      0.919      0.841      0.901      0.535\n"
          ]
        },
        {
          "output_type": "stream",
          "name": "stderr",
          "text": [
            "\n"
          ]
        },
        {
          "output_type": "stream",
          "name": "stdout",
          "text": [
            "\n",
            "      Epoch    GPU_mem   box_loss   cls_loss   dfl_loss  Instances       Size\n"
          ]
        },
        {
          "output_type": "stream",
          "name": "stderr",
          "text": [
            "     98/100         0G     0.9164     0.4793     0.9827          9        320: 100%|██████████| 22/22 [00:47<00:00,  2.14s/it]\n",
            "                 Class     Images  Instances      Box(P          R      mAP50  mAP50-95): 100%|██████████| 2/2 [00:01<00:00,  1.10it/s]"
          ]
        },
        {
          "output_type": "stream",
          "name": "stdout",
          "text": [
            "                   all         44         44       0.92      0.841        0.9      0.531\n"
          ]
        },
        {
          "output_type": "stream",
          "name": "stderr",
          "text": [
            "\n"
          ]
        },
        {
          "output_type": "stream",
          "name": "stdout",
          "text": [
            "\n",
            "      Epoch    GPU_mem   box_loss   cls_loss   dfl_loss  Instances       Size\n"
          ]
        },
        {
          "output_type": "stream",
          "name": "stderr",
          "text": [
            "     99/100         0G     0.9235      0.479     0.9796          9        320: 100%|██████████| 22/22 [00:47<00:00,  2.15s/it]\n",
            "                 Class     Images  Instances      Box(P          R      mAP50  mAP50-95): 100%|██████████| 2/2 [00:01<00:00,  1.12it/s]"
          ]
        },
        {
          "output_type": "stream",
          "name": "stdout",
          "text": [
            "                   all         44         44      0.924      0.835      0.898      0.525\n"
          ]
        },
        {
          "output_type": "stream",
          "name": "stderr",
          "text": [
            "\n"
          ]
        },
        {
          "output_type": "stream",
          "name": "stdout",
          "text": [
            "\n",
            "      Epoch    GPU_mem   box_loss   cls_loss   dfl_loss  Instances       Size\n"
          ]
        },
        {
          "output_type": "stream",
          "name": "stderr",
          "text": [
            "    100/100         0G     0.8919     0.4716     0.9683          9        320: 100%|██████████| 22/22 [00:47<00:00,  2.14s/it]\n",
            "                 Class     Images  Instances      Box(P          R      mAP50  mAP50-95): 100%|██████████| 2/2 [00:02<00:00,  1.38s/it]"
          ]
        },
        {
          "output_type": "stream",
          "name": "stdout",
          "text": [
            "                   all         44         44      0.925       0.84      0.897      0.537\n"
          ]
        },
        {
          "output_type": "stream",
          "name": "stderr",
          "text": [
            "\n"
          ]
        },
        {
          "output_type": "stream",
          "name": "stdout",
          "text": [
            "\n",
            "100 epochs completed in 1.361 hours.\n",
            "Optimizer stripped from runs/detect/train3/weights/last.pt, 6.2MB\n",
            "Optimizer stripped from runs/detect/train3/weights/best.pt, 6.2MB\n",
            "\n",
            "Validating runs/detect/train3/weights/best.pt...\n",
            "Ultralytics 8.3.48 🚀 Python-3.10.12 torch-2.5.1+cu121 CPU (Intel Xeon 2.00GHz)\n",
            "Model summary (fused): 168 layers, 3,005,843 parameters, 0 gradients, 8.1 GFLOPs\n"
          ]
        },
        {
          "output_type": "stream",
          "name": "stderr",
          "text": [
            "                 Class     Images  Instances      Box(P          R      mAP50  mAP50-95): 100%|██████████| 2/2 [00:01<00:00,  1.13it/s]\n"
          ]
        },
        {
          "output_type": "stream",
          "name": "stdout",
          "text": [
            "                   all         44         44      0.938      0.864      0.931      0.538\n",
            "Speed: 0.5ms preprocess, 36.8ms inference, 0.0ms loss, 0.3ms postprocess per image\n",
            "Results saved to \u001b[1mruns/detect/train3\u001b[0m\n"
          ]
        }
      ]
    },
    {
      "cell_type": "code",
      "source": [
        "\n",
        "# Save the trained model\n",
        "model.save('/content/best_license_plate_model.pt')"
      ],
      "metadata": {
        "id": "oP1ElKz8Ox2t"
      },
      "execution_count": null,
      "outputs": []
    },
    {
      "cell_type": "code",
      "source": [
        "# Path to the directory containing YOLO training results\n",
        "results_dir = os.path.join('/content','runs', 'detect')  # Replace 'detect' with your task type if different\n",
        "latest_run_dir = sorted([os.path.join(results_dir, d) for d in os.listdir(results_dir)], key=os.path.getmtime)[-1]\n",
        "results_file = os.path.join(latest_run_dir, 'results.csv')\n",
        "\n",
        "# Check if the results file exists\n",
        "if not os.path.exists(results_file):\n",
        "    raise FileNotFoundError(f\"Results file not found in the directory: {latest_run_dir}\")\n",
        "\n",
        "# Read the CSV file containing the training results\n",
        "results_df = pd.read_csv(results_file)\n",
        "\n",
        "# Display the first few rows of the results\n",
        "print(\"Training results preview:\")\n",
        "print(results_df.head())\n",
        "\n",
        "# Plot training and validation losses\n",
        "plt.figure(figsize=(10, 6))\n",
        "plt.plot(results_df['epoch'], results_df['train/box_loss'], label='Box Loss')  # Box loss (bounding boxes)\n",
        "plt.plot(results_df['epoch'], results_df['train/cls_loss'], label='Class Loss')  # Classification loss\n",
        "plt.plot(results_df['epoch'], results_df['train/dfl_loss'], label='DFL Loss')  # Distribution Focal Loss\n",
        "plt.xlabel('Epoch')\n",
        "plt.ylabel('Loss')\n",
        "plt.title('Loss vs. Epoch (YOLOv8)')\n",
        "plt.legend()\n",
        "plt.grid()\n",
        "plt.show()\n",
        "\n",
        "# Plot mAP metrics\n",
        "plt.figure(figsize=(10, 6))\n",
        "plt.plot(results_df['epoch'], results_df['metrics/mAP50(B)'], label='mAP@0.5')  # mAP at IoU=0.5\n",
        "plt.plot(results_df['epoch'], results_df['metrics/mAP50-95(B)'], label='mAP@0.5:0.95')  # mAP across IoU thresholds\n",
        "plt.xlabel('Epoch')\n",
        "plt.ylabel('mAP')\n",
        "plt.title('mAP vs. Epoch (YOLOv8)')\n",
        "plt.legend()\n",
        "plt.grid()\n",
        "plt.show()\n"
      ],
      "metadata": {
        "colab": {
          "base_uri": "https://localhost:8080/",
          "height": 1000
        },
        "id": "6-iSmrNfI-hK",
        "outputId": "fb0b1170-b7f2-4b80-ae10-76bf9a63c008"
      },
      "execution_count": null,
      "outputs": [
        {
          "output_type": "stream",
          "name": "stdout",
          "text": [
            "Training results preview:\n",
            "   epoch      time  train/box_loss  train/cls_loss  train/dfl_loss  \\\n",
            "0      1   57.2334         1.64879         2.83284         1.29075   \n",
            "1      2  106.0330         1.52832         1.51241         1.12492   \n",
            "2      3  155.8850         1.56559         1.43222         1.17123   \n",
            "3      4  202.7160         1.51305         1.34418         1.14456   \n",
            "4      5  250.5010         1.52262         1.28888         1.15537   \n",
            "\n",
            "   metrics/precision(B)  metrics/recall(B)  metrics/mAP50(B)  \\\n",
            "0               0.00346            0.90909           0.44518   \n",
            "1               0.00526            0.93182           0.21754   \n",
            "2               0.70096            0.27273           0.44245   \n",
            "3               0.17627            0.36364           0.13353   \n",
            "4               0.14766            0.56818           0.13358   \n",
            "\n",
            "   metrics/mAP50-95(B)  val/box_loss  val/cls_loss  val/dfl_loss    lr/pg0  \\\n",
            "0              0.23762       1.47272       3.03308       1.14197  0.000420   \n",
            "1              0.12114       1.57518       3.17065       1.22859  0.000851   \n",
            "2              0.19483       1.73628       2.68212       1.23674  0.001274   \n",
            "3              0.06845       1.70181       4.01702       1.19087  0.001688   \n",
            "4              0.06396       1.68329       2.85391       1.24568  0.001921   \n",
            "\n",
            "     lr/pg1    lr/pg2  \n",
            "0  0.000420  0.000420  \n",
            "1  0.000851  0.000851  \n",
            "2  0.001274  0.001274  \n",
            "3  0.001688  0.001688  \n",
            "4  0.001921  0.001921  \n"
          ]
        },
        {
          "output_type": "display_data",
          "data": {
            "text/plain": [
              "<Figure size 1000x600 with 1 Axes>"
            ],
            "image/png": "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\n"
          },
          "metadata": {}
        },
        {
          "output_type": "display_data",
          "data": {
            "text/plain": [
              "<Figure size 1000x600 with 1 Axes>"
            ],
            "image/png": "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\n"
          },
          "metadata": {}
        }
      ]
    },
    {
      "cell_type": "code",
      "source": [],
      "metadata": {
        "id": "vj4pmgq5hlAf"
      },
      "execution_count": null,
      "outputs": []
    }
  ],
  "metadata": {
    "celltoolbar": "Create Assignment",
    "kernelspec": {
      "display_name": "Python 3",
      "name": "python3"
    },
    "language_info": {
      "codemirror_mode": {
        "name": "ipython",
        "version": 3
      },
      "file_extension": ".py",
      "mimetype": "text/x-python",
      "name": "python",
      "nbconvert_exporter": "python",
      "pygments_lexer": "ipython3",
      "version": "3.10.4"
    },
    "colab": {
      "provenance": [],
      "gpuType": "T4"
    },
    "accelerator": "GPU"
  },
  "nbformat": 4,
  "nbformat_minor": 0
}
